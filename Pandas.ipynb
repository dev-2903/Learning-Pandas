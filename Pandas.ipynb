{
 "cells": [
  {
   "cell_type": "markdown",
   "id": "9b2d1434",
   "metadata": {},
   "source": [
    "# Learning pandas yay!"
   ]
  },
  {
   "cell_type": "markdown",
   "id": "620b9c56",
   "metadata": {},
   "source": [
    "## Module 1 Intro"
   ]
  },
  {
   "cell_type": "code",
   "execution_count": 55,
   "id": "cbfe81fb",
   "metadata": {},
   "outputs": [],
   "source": [
    "import pandas as pd\n",
    "import numpy as np\n",
    "import matplotlib.pyplot as plt\n",
    "import seaborn as sns\n",
    "%matplotlib inline"
   ]
  },
  {
   "cell_type": "code",
   "execution_count": 13,
   "id": "1152790f",
   "metadata": {},
   "outputs": [
    {
     "name": "stdout",
     "output_type": "stream",
     "text": [
      "a    1\n",
      "b    2\n",
      "c    3\n",
      "d    4\n",
      "dtype: int64\n"
     ]
    }
   ],
   "source": [
    "#series\n",
    "s = pd.Series([1,2,3,4],index=['a','b','c','d'])\n",
    "print(s)"
   ]
  },
  {
   "cell_type": "code",
   "execution_count": 2,
   "id": "7460a748",
   "metadata": {},
   "outputs": [
    {
     "name": "stdout",
     "output_type": "stream",
     "text": [
      "      Name  Age    City\n",
      "0    Alice   22      NY\n",
      "1    Bobby   27  Munich\n",
      "2  Charles   21  Boston\n"
     ]
    }
   ],
   "source": [
    "# data frame {i guess they are same as r}\n",
    "data = { 'Name':['Alice','Bobby','Charles'],'Age':[22,27,21],'City':['NY','Munich','Boston']}\n",
    "df = pd.DataFrame(data)\n",
    "print(df) "
   ]
  },
  {
   "cell_type": "code",
   "execution_count": 3,
   "id": "2a31b344",
   "metadata": {},
   "outputs": [
    {
     "name": "stdout",
     "output_type": "stream",
     "text": [
      "      Name  Age    City\n",
      "0    Alice   22      NY\n",
      "1    Bobby   27  Munich\n",
      "2  Charles   21  Boston\n"
     ]
    }
   ],
   "source": [
    "array = np.array([[1,2],[3,4]])\n",
    "df1= pd.DataFrame(array,columns=['A','B'])\n",
    "print(df)  "
   ]
  },
  {
   "cell_type": "code",
   "execution_count": 16,
   "id": "773c9f70",
   "metadata": {},
   "outputs": [
    {
     "name": "stdout",
     "output_type": "stream",
     "text": [
      "0    5\n",
      "1    7\n",
      "2    9\n",
      "dtype: int64\n"
     ]
    }
   ],
   "source": [
    "#operations on series \n",
    "#arithmetic\n",
    "s1 = pd.Series([1,2,3])\n",
    "s2 = pd.Series([4,5,6])\n",
    "print(s1+s2)"
   ]
  },
  {
   "cell_type": "code",
   "execution_count": 17,
   "id": "36bb61c9",
   "metadata": {},
   "outputs": [
    {
     "name": "stdout",
     "output_type": "stream",
     "text": [
      "0    22\n",
      "1    27\n",
      "2    21\n",
      "Name: Age, dtype: int64\n",
      "0        NY\n",
      "1    Munich\n",
      "2    Boston\n",
      "Name: City, dtype: object\n"
     ]
    }
   ],
   "source": [
    "#df operations\n",
    "print(df['Age'])\n",
    "print(df['City'])"
   ]
  },
  {
   "cell_type": "code",
   "execution_count": 18,
   "id": "08b8dfcd",
   "metadata": {},
   "outputs": [
    {
     "name": "stdout",
     "output_type": "stream",
     "text": [
      "      Name  Age    City  IsAdult\n",
      "0    Alice   22      NY     True\n",
      "1    Bobby   27  Munich     True\n",
      "2  Charles   21  Boston     True\n"
     ]
    }
   ],
   "source": [
    "#ading col.\n",
    "df['IsAdult'] = df['Age'] > 18\n",
    "print(df)\n"
   ]
  },
  {
   "cell_type": "markdown",
   "id": "1276bb35",
   "metadata": {},
   "source": [
    "#### indexing basics \n",
    ".loc[] - index based\n",
    ".iloc[] - position based"
   ]
  },
  {
   "cell_type": "code",
   "execution_count": 19,
   "id": "1b348851",
   "metadata": {},
   "outputs": [
    {
     "name": "stdout",
     "output_type": "stream",
     "text": [
      "Name        Bobby\n",
      "Age            27\n",
      "City       Munich\n",
      "IsAdult      True\n",
      "Name: 1, dtype: object\n",
      "\n",
      "Name       Alice\n",
      "Age           22\n",
      "City          NY\n",
      "IsAdult     True\n",
      "Name: 0, dtype: object\n"
     ]
    }
   ],
   "source": [
    "print(df.loc[1])\n",
    "print('')\n",
    "print(df.iloc[0])\n"
   ]
  },
  {
   "cell_type": "markdown",
   "id": "7e216b01",
   "metadata": {},
   "source": [
    "### Module 2"
   ]
  },
  {
   "cell_type": "markdown",
   "id": "f5c401ed",
   "metadata": {},
   "source": [
    "#### Reading data with pandas\n",
    "\n",
    "CSV , Excel , JSON , SQL , Parquet , HTML -> are the common data types which we can import\n",
    "\n",
    "use .read_{name from above}\n",
    "\n"
   ]
  },
  {
   "cell_type": "code",
   "execution_count": 20,
   "id": "d7e552e4",
   "metadata": {},
   "outputs": [
    {
     "data": {
      "text/html": [
       "<div>\n",
       "<style scoped>\n",
       "    .dataframe tbody tr th:only-of-type {\n",
       "        vertical-align: middle;\n",
       "    }\n",
       "\n",
       "    .dataframe tbody tr th {\n",
       "        vertical-align: top;\n",
       "    }\n",
       "\n",
       "    .dataframe thead th {\n",
       "        text-align: right;\n",
       "    }\n",
       "</style>\n",
       "<table border=\"1\" class=\"dataframe\">\n",
       "  <thead>\n",
       "    <tr style=\"text-align: right;\">\n",
       "      <th></th>\n",
       "      <th>OrderID</th>\n",
       "      <th>Product</th>\n",
       "      <th>Category</th>\n",
       "      <th>Price</th>\n",
       "      <th>Quantity</th>\n",
       "      <th>Customer</th>\n",
       "      <th>OrderDate</th>\n",
       "    </tr>\n",
       "  </thead>\n",
       "  <tbody>\n",
       "    <tr>\n",
       "      <th>0</th>\n",
       "      <td>1001</td>\n",
       "      <td>Laptop</td>\n",
       "      <td>Electronics</td>\n",
       "      <td>999.99</td>\n",
       "      <td>1</td>\n",
       "      <td>Alice Smith</td>\n",
       "      <td>2025-09-01</td>\n",
       "    </tr>\n",
       "    <tr>\n",
       "      <th>1</th>\n",
       "      <td>1002</td>\n",
       "      <td>Headphones</td>\n",
       "      <td>Electronics</td>\n",
       "      <td>49.99</td>\n",
       "      <td>2</td>\n",
       "      <td>Bob Johnson</td>\n",
       "      <td>2025-09-02</td>\n",
       "    </tr>\n",
       "    <tr>\n",
       "      <th>2</th>\n",
       "      <td>1003</td>\n",
       "      <td>Desk Chair</td>\n",
       "      <td>Furniture</td>\n",
       "      <td>129.99</td>\n",
       "      <td>1</td>\n",
       "      <td>Carol Williams</td>\n",
       "      <td>2025-09-03</td>\n",
       "    </tr>\n",
       "    <tr>\n",
       "      <th>3</th>\n",
       "      <td>1004</td>\n",
       "      <td>Smartphone</td>\n",
       "      <td>Electronics</td>\n",
       "      <td>699.99</td>\n",
       "      <td>1</td>\n",
       "      <td>David Brown</td>\n",
       "      <td>2025-09-04</td>\n",
       "    </tr>\n",
       "    <tr>\n",
       "      <th>4</th>\n",
       "      <td>1005</td>\n",
       "      <td>Notebook</td>\n",
       "      <td>Stationery</td>\n",
       "      <td>5.99</td>\n",
       "      <td>10</td>\n",
       "      <td>Emma Davis</td>\n",
       "      <td>2025-09-05</td>\n",
       "    </tr>\n",
       "  </tbody>\n",
       "</table>\n",
       "</div>"
      ],
      "text/plain": [
       "   OrderID     Product     Category   Price  Quantity        Customer  \\\n",
       "0     1001      Laptop  Electronics  999.99         1     Alice Smith   \n",
       "1     1002  Headphones  Electronics   49.99         2     Bob Johnson   \n",
       "2     1003  Desk Chair    Furniture  129.99         1  Carol Williams   \n",
       "3     1004  Smartphone  Electronics  699.99         1     David Brown   \n",
       "4     1005    Notebook   Stationery    5.99        10      Emma Davis   \n",
       "\n",
       "    OrderDate  \n",
       "0  2025-09-01  \n",
       "1  2025-09-02  \n",
       "2  2025-09-03  \n",
       "3  2025-09-04  \n",
       "4  2025-09-05  "
      ]
     },
     "execution_count": 20,
     "metadata": {},
     "output_type": "execute_result"
    }
   ],
   "source": [
    "df_csv = pd.read_csv('practise_pandas.csv')\n",
    "df_csv.head()\n"
   ]
  },
  {
   "cell_type": "code",
   "execution_count": 21,
   "id": "02d9928c",
   "metadata": {},
   "outputs": [
    {
     "name": "stdout",
     "output_type": "stream",
     "text": [
      "   OrderID     Product     Category   Price  Quantity        Customer  \\\n",
      "0     1001      Laptop  Electronics  999.99         1     Alice Smith   \n",
      "1     1002  Headphones  Electronics   49.99         2     Bob Johnson   \n",
      "2     1003  Desk Chair    Furniture  129.99         1  Carol Williams   \n",
      "3     1004  Smartphone  Electronics  699.99         1     David Brown   \n",
      "4     1005    Notebook   Stationery    5.99        10      Emma Davis   \n",
      "\n",
      "    OrderDate  \n",
      "0  2025-09-01  \n",
      "1  2025-09-02  \n",
      "2  2025-09-03  \n",
      "3  2025-09-04  \n",
      "4  2025-09-05  \n"
     ]
    }
   ],
   "source": [
    "print(df_csv.head())"
   ]
  },
  {
   "cell_type": "markdown",
   "id": "f4a61300",
   "metadata": {},
   "source": [
    "Common Pararmeters  \n",
    "sep ='the seperator like ; or , ' | {tells which symbol seperates the value} \\\n",
    "inex_col ='col name' | [tells which column is the index column] \\\n",
    "parse_dates =['col name'] | {tells which cols are dates} \n"
   ]
  },
  {
   "cell_type": "code",
   "execution_count": 22,
   "id": "aa29a03f",
   "metadata": {},
   "outputs": [],
   "source": [
    "#EXAMPLE CSV WITH SOME PARAMETERS\n",
    "#  df_csv = pd.read_csv(\"data.csv\",sep=';',index_col='ID',parse_dates=['dates'])"
   ]
  },
  {
   "cell_type": "markdown",
   "id": "6d1e5c95",
   "metadata": {},
   "source": [
    "#### Writing data in files \n",
    "\n",
    "CSV , Excel , JSON , SQL , Parquet , HTML -> are the common data types which we can export"
   ]
  },
  {
   "cell_type": "code",
   "execution_count": 23,
   "id": "2225b782",
   "metadata": {},
   "outputs": [],
   "source": [
    "df.to_csv('test.csv',index=False)\n",
    "# This basically converts data frames into csv files and there are many more parameters too"
   ]
  },
  {
   "cell_type": "markdown",
   "id": "9da7d6df",
   "metadata": {},
   "source": [
    "Common parameters of to_csv\n",
    "- `path_or_buf` — output file path or buffer\n",
    "    \n",
    "- `sep` — delimiter (default `,`)\n",
    "    \n",
    "- `index` — write row index (default `True`)\n",
    "    \n",
    "- `header` — write column headers (default `True`)\n",
    "    \n",
    "- `columns` — subset of columns to write\n",
    "    \n",
    "- `encoding` — output file encoding\n",
    "    "
   ]
  },
  {
   "cell_type": "markdown",
   "id": "cf31dccb",
   "metadata": {},
   "source": [
    "##### similar stuff for all other file types"
   ]
  },
  {
   "cell_type": "markdown",
   "id": "7d985364",
   "metadata": {},
   "source": [
    "### Module 3 Data Selection & Indexing\n"
   ]
  },
  {
   "cell_type": "code",
   "execution_count": 5,
   "id": "7b1acec3",
   "metadata": {},
   "outputs": [
    {
     "name": "stdout",
     "output_type": "stream",
     "text": [
      "      Name  Age    City\n",
      "a    Alice   22      NY\n",
      "b    Bobby   27  Munich\n",
      "c  Charles   21  Boston \n",
      "\n",
      "Name    Alice\n",
      "Age        22\n",
      "City       NY\n",
      "Name: 0, dtype: object \n",
      "\n",
      "Name     Bobby\n",
      "Age         27\n",
      "City    Munich\n",
      "Name: b, dtype: object \n",
      "\n",
      "      Name  Age    City\n",
      "a    Alice   22      NY\n",
      "c  Charles   21  Boston\n"
     ]
    }
   ],
   "source": [
    "df2 = pd.DataFrame(data ,index=['a','b','c'])\n",
    "print(df2,\"\\n\")\n",
    "print(df.loc[0],\"\\n\") #by default index is 0,1,2 .....\n",
    "print(df2.loc['b'],\"\\n\") #we put special index when we made the df\n",
    "print(df2.loc[['a','c']])"
   ]
  },
  {
   "cell_type": "code",
   "execution_count": 25,
   "id": "9fd46b31",
   "metadata": {},
   "outputs": [
    {
     "name": "stdout",
     "output_type": "stream",
     "text": [
      "Alice\n"
     ]
    }
   ],
   "source": [
    "# this is the syntax df.loc['row','col']\n",
    "print(df2.loc['a','Name'])"
   ]
  },
  {
   "cell_type": "code",
   "execution_count": 26,
   "id": "7d3f4ba6",
   "metadata": {},
   "outputs": [
    {
     "name": "stdout",
     "output_type": "stream",
     "text": [
      "    Name  Age    City\n",
      "a  Alice   22      NY\n",
      "b  Bobby   27  Munich\n"
     ]
    }
   ],
   "source": [
    "# .iloc()\n",
    "print(df2.iloc[0:2])\n",
    "# The position must be integers or slices (nothing else works)\n"
   ]
  },
  {
   "cell_type": "markdown",
   "id": "cc5f0912",
   "metadata": {},
   "source": [
    "- `.at[]` is like `.loc[]` but **only for single scalar values** by label — faster access.\n",
    "    \n",
    "- `.iat[]` is like `.iloc[]` but **only for single scalar values** by position — faster access.\n"
   ]
  },
  {
   "cell_type": "code",
   "execution_count": 27,
   "id": "e09b13a8",
   "metadata": {},
   "outputs": [
    {
     "name": "stdout",
     "output_type": "stream",
     "text": [
      "Alice\n",
      "Alice\n",
      "Bobby\n"
     ]
    }
   ],
   "source": [
    "print(df2.at[\"a\",\"Name\"])\n",
    "print(df2.iat[0,0])\n",
    "print(df2.iat[1,0])"
   ]
  },
  {
   "cell_type": "code",
   "execution_count": 28,
   "id": "f5e7abd3",
   "metadata": {},
   "outputs": [
    {
     "name": "stdout",
     "output_type": "stream",
     "text": [
      "    Name  Age    City\n",
      "a  Alice   22      NY\n",
      "b  Bobby   27  Munich \n",
      "\n",
      "      Name  Age    City\n",
      "b    Bobby   27  Munich\n",
      "c  Charles   21  Boston\n"
     ]
    }
   ],
   "source": [
    "#boolean indexing (learned beforeee)\n",
    "print(df2[df2[\"Age\"]>21],\"\\n\")\n",
    "# You can use multiple conditions by using &(and) and |(or) symbols\n",
    "print(df2[(df2[\"Age\"] < 22) | (df2[\"City\"] == \"Munich\")])"
   ]
  },
  {
   "cell_type": "code",
   "execution_count": 29,
   "id": "af756362",
   "metadata": {},
   "outputs": [
    {
     "name": "stdout",
     "output_type": "stream",
     "text": [
      "      Name  Age\n",
      "c  Charles   21 \n",
      "\n",
      "      Name  Age    City\n",
      "c  Charles   21  Boston\n"
     ]
    }
   ],
   "source": [
    "# We can use bool  indexing with loc\n",
    "\n",
    "#some data\n",
    "print(df2.loc[df2['Age']<22, [\"Name\",\"Age\"]],\"\\n\")\n",
    "\n",
    "#all data\n",
    "print(df2.loc[df2['Age']<22])"
   ]
  },
  {
   "cell_type": "markdown",
   "id": "96e6e687",
   "metadata": {},
   "source": [
    "You can select columns by using col names (duhh)"
   ]
  },
  {
   "cell_type": "markdown",
   "id": "c5fa7d92",
   "metadata": {},
   "source": [
    "### Module 4 Data Cleaning and Missing Data\n",
    "Missing data in pandas is usually represented as NaN (Not a Number) or None."
   ]
  },
  {
   "cell_type": "code",
   "execution_count": 6,
   "id": "6cc65e0a",
   "metadata": {},
   "outputs": [
    {
     "data": {
      "text/html": [
       "<div>\n",
       "<style scoped>\n",
       "    .dataframe tbody tr th:only-of-type {\n",
       "        vertical-align: middle;\n",
       "    }\n",
       "\n",
       "    .dataframe tbody tr th {\n",
       "        vertical-align: top;\n",
       "    }\n",
       "\n",
       "    .dataframe thead th {\n",
       "        text-align: right;\n",
       "    }\n",
       "</style>\n",
       "<table border=\"1\" class=\"dataframe\">\n",
       "  <thead>\n",
       "    <tr style=\"text-align: right;\">\n",
       "      <th></th>\n",
       "      <th>Name</th>\n",
       "      <th>Age</th>\n",
       "      <th>City</th>\n",
       "    </tr>\n",
       "  </thead>\n",
       "  <tbody>\n",
       "    <tr>\n",
       "      <th>0</th>\n",
       "      <td>Alice</td>\n",
       "      <td>22.0</td>\n",
       "      <td>NY</td>\n",
       "    </tr>\n",
       "    <tr>\n",
       "      <th>1</th>\n",
       "      <td>Bobby</td>\n",
       "      <td>NaN</td>\n",
       "      <td>Munich</td>\n",
       "    </tr>\n",
       "    <tr>\n",
       "      <th>2</th>\n",
       "      <td>Charles</td>\n",
       "      <td>21.0</td>\n",
       "      <td>None</td>\n",
       "    </tr>\n",
       "  </tbody>\n",
       "</table>\n",
       "</div>"
      ],
      "text/plain": [
       "      Name   Age    City\n",
       "0    Alice  22.0      NY\n",
       "1    Bobby   NaN  Munich\n",
       "2  Charles  21.0    None"
      ]
     },
     "execution_count": 6,
     "metadata": {},
     "output_type": "execute_result"
    }
   ],
   "source": [
    "#example\n",
    "data1 = { 'Name':['Alice','Bobby','Charles'],'Age':[22,np.nan,21],'City':['NY','Munich',None]}\n",
    "df3 = pd.DataFrame(data1)\n",
    "df3\n"
   ]
  },
  {
   "cell_type": "code",
   "execution_count": 31,
   "id": "f3d51847",
   "metadata": {},
   "outputs": [
    {
     "name": "stdout",
     "output_type": "stream",
     "text": [
      "    Name    Age   City\n",
      "0  False  False  False\n",
      "1  False   True  False\n",
      "2  False  False   True\n"
     ]
    }
   ],
   "source": [
    "# how to check for none and nan\n",
    "print(df3.isnull())"
   ]
  },
  {
   "cell_type": "code",
   "execution_count": 32,
   "id": "4431a82c",
   "metadata": {},
   "outputs": [
    {
     "name": "stdout",
     "output_type": "stream",
     "text": [
      "Name    0\n",
      "Age     1\n",
      "City    1\n",
      "dtype: int64\n"
     ]
    }
   ],
   "source": [
    "# sum of all null in a DF\n",
    "print(df3.isnull().sum())"
   ]
  },
  {
   "cell_type": "code",
   "execution_count": 33,
   "id": "bb1ac478",
   "metadata": {},
   "outputs": [
    {
     "name": "stdout",
     "output_type": "stream",
     "text": [
      "    Name   Age City\n",
      "0  Alice  22.0   NY \n",
      "\n",
      "      Name\n",
      "0    Alice\n",
      "1    Bobby\n",
      "2  Charles\n"
     ]
    }
   ],
   "source": [
    "# Drop missing values\n",
    "print(df3.dropna(axis=0),\"\\n\") #rows\n",
    "print(df3.dropna(axis=1)) #column"
   ]
  },
  {
   "cell_type": "code",
   "execution_count": 34,
   "id": "20f80e21",
   "metadata": {},
   "outputs": [
    {
     "name": "stdout",
     "output_type": "stream",
     "text": [
      "      Name   Age    City\n",
      "0    Alice  22.0      NY\n",
      "1    Bobby   NaN  Munich\n",
      "2  Charles  21.0    None\n"
     ]
    },
    {
     "data": {
      "text/html": [
       "<div>\n",
       "<style scoped>\n",
       "    .dataframe tbody tr th:only-of-type {\n",
       "        vertical-align: middle;\n",
       "    }\n",
       "\n",
       "    .dataframe tbody tr th {\n",
       "        vertical-align: top;\n",
       "    }\n",
       "\n",
       "    .dataframe thead th {\n",
       "        text-align: right;\n",
       "    }\n",
       "</style>\n",
       "<table border=\"1\" class=\"dataframe\">\n",
       "  <thead>\n",
       "    <tr style=\"text-align: right;\">\n",
       "      <th></th>\n",
       "      <th>Name</th>\n",
       "      <th>Age</th>\n",
       "      <th>City</th>\n",
       "    </tr>\n",
       "  </thead>\n",
       "  <tbody>\n",
       "    <tr>\n",
       "      <th>0</th>\n",
       "      <td>Alice</td>\n",
       "      <td>22.0</td>\n",
       "      <td>NY</td>\n",
       "    </tr>\n",
       "    <tr>\n",
       "      <th>1</th>\n",
       "      <td>Bobby</td>\n",
       "      <td>21.0</td>\n",
       "      <td>Munich</td>\n",
       "    </tr>\n",
       "    <tr>\n",
       "      <th>2</th>\n",
       "      <td>Charles</td>\n",
       "      <td>21.0</td>\n",
       "      <td>21</td>\n",
       "    </tr>\n",
       "  </tbody>\n",
       "</table>\n",
       "</div>"
      ],
      "text/plain": [
       "      Name   Age    City\n",
       "0    Alice  22.0      NY\n",
       "1    Bobby  21.0  Munich\n",
       "2  Charles  21.0      21"
      ]
     },
     "execution_count": 34,
     "metadata": {},
     "output_type": "execute_result"
    }
   ],
   "source": [
    "# Filling missing values\n",
    "# .fillna() function\n",
    "print(df3) \n",
    "# The age of bobby is missing so we can do :-\n",
    "df3.fillna(int(df3['Age'].mean())) "
   ]
  },
  {
   "cell_type": "code",
   "execution_count": 38,
   "id": "5cd0d57f",
   "metadata": {},
   "outputs": [
    {
     "name": "stdout",
     "output_type": "stream",
     "text": [
      "original :-\n",
      "    Name  Age\n",
      "0  Alice   25\n",
      "1    Bob   30\n",
      "2    Bob   30\n",
      "3  David   40\n",
      "4  Alice   25 \n",
      "\n",
      "detecting dupes :-\n",
      "0    False\n",
      "1    False\n",
      "2     True\n",
      "3    False\n",
      "4     True\n",
      "dtype: bool \n",
      "\n",
      "dropping dupe entries :-\n",
      "    Name  Age\n",
      "0  Alice   25\n",
      "1    Bob   30\n",
      "3  David   40\n"
     ]
    }
   ],
   "source": [
    "# Detecting And Removing Duplicates\n",
    "data3 = { 'Name': ['Alice', 'Bob', 'Bob', 'David', 'Alice'], 'Age': [25, 30, 30, 40, 25] }\n",
    "df4 = pd.DataFrame(data3)\n",
    "print(\"original :-\")\n",
    "print(df4 , \"\\n\")\n",
    "print(\"detecting dupes :-\")\n",
    "print(df4.duplicated(),\"\\n\")\n",
    "print(\"dropping dupe entries :-\")\n",
    "print(df4.drop_duplicates())\n"
   ]
  },
  {
   "cell_type": "markdown",
   "id": "f91f7781",
   "metadata": {},
   "source": [
    "Data type Handling and Conversion"
   ]
  },
  {
   "cell_type": "code",
   "execution_count": 36,
   "id": "643eebad",
   "metadata": {},
   "outputs": [
    {
     "name": "stdout",
     "output_type": "stream",
     "text": [
      "Name    object\n",
      "Age      int64\n",
      "dtype: object\n"
     ]
    },
    {
     "data": {
      "text/plain": [
       "0    25\n",
       "1    30\n",
       "2    30\n",
       "3    40\n",
       "4    25\n",
       "Name: Age, dtype: Int64"
      ]
     },
     "execution_count": 36,
     "metadata": {},
     "output_type": "execute_result"
    }
   ],
   "source": [
    "print(df4.dtypes)\n",
    "df4['Age'].astype(\"Int64\")"
   ]
  },
  {
   "cell_type": "code",
   "execution_count": 37,
   "id": "0f5cb535",
   "metadata": {},
   "outputs": [
    {
     "data": {
      "text/plain": [
       "0   2020-01-01\n",
       "1   2021-05-12\n",
       "2          NaT\n",
       "dtype: datetime64[ns]"
      ]
     },
     "execution_count": 37,
     "metadata": {},
     "output_type": "execute_result"
    }
   ],
   "source": [
    "dates = pd.Series(['2020-01-01','2021-05-12',None])\n",
    "dates = pd.to_datetime(dates)\n",
    "dates"
   ]
  },
  {
   "cell_type": "markdown",
   "id": "be5a7825",
   "metadata": {},
   "source": [
    "##### Additional Useful Cleaning Functions\n",
    "\n",
    "- `.replace()` — replace specific values\n",
    "    \n",
    "- `.rename()` — rename columns or indexes\n",
    "    \n",
    "- `.astype()` — convert types\n",
    "    \n",
    "- `.apply()` — apply custom cleaning functions"
   ]
  },
  {
   "cell_type": "code",
   "execution_count": 38,
   "id": "715953ad",
   "metadata": {},
   "outputs": [
    {
     "data": {
      "text/html": [
       "<div>\n",
       "<style scoped>\n",
       "    .dataframe tbody tr th:only-of-type {\n",
       "        vertical-align: middle;\n",
       "    }\n",
       "\n",
       "    .dataframe tbody tr th {\n",
       "        vertical-align: top;\n",
       "    }\n",
       "\n",
       "    .dataframe thead th {\n",
       "        text-align: right;\n",
       "    }\n",
       "</style>\n",
       "<table border=\"1\" class=\"dataframe\">\n",
       "  <thead>\n",
       "    <tr style=\"text-align: right;\">\n",
       "      <th></th>\n",
       "      <th>Name</th>\n",
       "      <th>Age</th>\n",
       "    </tr>\n",
       "  </thead>\n",
       "  <tbody>\n",
       "    <tr>\n",
       "      <th>0</th>\n",
       "      <td>Alice</td>\n",
       "      <td>17</td>\n",
       "    </tr>\n",
       "    <tr>\n",
       "      <th>1</th>\n",
       "      <td>Bob</td>\n",
       "      <td>30</td>\n",
       "    </tr>\n",
       "    <tr>\n",
       "      <th>2</th>\n",
       "      <td>Bob</td>\n",
       "      <td>30</td>\n",
       "    </tr>\n",
       "    <tr>\n",
       "      <th>3</th>\n",
       "      <td>David</td>\n",
       "      <td>40</td>\n",
       "    </tr>\n",
       "    <tr>\n",
       "      <th>4</th>\n",
       "      <td>Alice</td>\n",
       "      <td>17</td>\n",
       "    </tr>\n",
       "  </tbody>\n",
       "</table>\n",
       "</div>"
      ],
      "text/plain": [
       "    Name  Age\n",
       "0  Alice   17\n",
       "1    Bob   30\n",
       "2    Bob   30\n",
       "3  David   40\n",
       "4  Alice   17"
      ]
     },
     "execution_count": 38,
     "metadata": {},
     "output_type": "execute_result"
    }
   ],
   "source": [
    "df4.replace(25,17)"
   ]
  },
  {
   "cell_type": "markdown",
   "id": "53302cff",
   "metadata": {},
   "source": [
    "#### Module 5 Data Transdormation"
   ]
  },
  {
   "cell_type": "code",
   "execution_count": 10,
   "id": "da0a2299",
   "metadata": {},
   "outputs": [
    {
     "data": {
      "text/html": [
       "<div>\n",
       "<style scoped>\n",
       "    .dataframe tbody tr th:only-of-type {\n",
       "        vertical-align: middle;\n",
       "    }\n",
       "\n",
       "    .dataframe tbody tr th {\n",
       "        vertical-align: top;\n",
       "    }\n",
       "\n",
       "    .dataframe thead th {\n",
       "        text-align: right;\n",
       "    }\n",
       "</style>\n",
       "<table border=\"1\" class=\"dataframe\">\n",
       "  <thead>\n",
       "    <tr style=\"text-align: right;\">\n",
       "      <th></th>\n",
       "      <th>Name</th>\n",
       "      <th>Age</th>\n",
       "      <th>City</th>\n",
       "    </tr>\n",
       "  </thead>\n",
       "  <tbody>\n",
       "    <tr>\n",
       "      <th>c</th>\n",
       "      <td>Charles</td>\n",
       "      <td>21</td>\n",
       "      <td>Boston</td>\n",
       "    </tr>\n",
       "    <tr>\n",
       "      <th>a</th>\n",
       "      <td>Alice</td>\n",
       "      <td>22</td>\n",
       "      <td>NY</td>\n",
       "    </tr>\n",
       "    <tr>\n",
       "      <th>b</th>\n",
       "      <td>Bobby</td>\n",
       "      <td>27</td>\n",
       "      <td>Munich</td>\n",
       "    </tr>\n",
       "  </tbody>\n",
       "</table>\n",
       "</div>"
      ],
      "text/plain": [
       "      Name  Age    City\n",
       "c  Charles   21  Boston\n",
       "a    Alice   22      NY\n",
       "b    Bobby   27  Munich"
      ]
     },
     "execution_count": 10,
     "metadata": {},
     "output_type": "execute_result"
    }
   ],
   "source": [
    "# Sorting Algorithm\n",
    "sort_df = df2.sort_values(by='Age')\n",
    "sort_df\n"
   ]
  },
  {
   "cell_type": "code",
   "execution_count": 16,
   "id": "c3b4a9f2",
   "metadata": {},
   "outputs": [
    {
     "data": {
      "text/html": [
       "<div>\n",
       "<style scoped>\n",
       "    .dataframe tbody tr th:only-of-type {\n",
       "        vertical-align: middle;\n",
       "    }\n",
       "\n",
       "    .dataframe tbody tr th {\n",
       "        vertical-align: top;\n",
       "    }\n",
       "\n",
       "    .dataframe thead th {\n",
       "        text-align: right;\n",
       "    }\n",
       "</style>\n",
       "<table border=\"1\" class=\"dataframe\">\n",
       "  <thead>\n",
       "    <tr style=\"text-align: right;\">\n",
       "      <th></th>\n",
       "      <th>Name</th>\n",
       "      <th>Age</th>\n",
       "      <th>City</th>\n",
       "    </tr>\n",
       "  </thead>\n",
       "  <tbody>\n",
       "    <tr>\n",
       "      <th>c</th>\n",
       "      <td>Charles</td>\n",
       "      <td>21</td>\n",
       "      <td>Boston</td>\n",
       "    </tr>\n",
       "    <tr>\n",
       "      <th>b</th>\n",
       "      <td>Bobby</td>\n",
       "      <td>27</td>\n",
       "      <td>Munich</td>\n",
       "    </tr>\n",
       "    <tr>\n",
       "      <th>a</th>\n",
       "      <td>Alice</td>\n",
       "      <td>22</td>\n",
       "      <td>NY</td>\n",
       "    </tr>\n",
       "  </tbody>\n",
       "</table>\n",
       "</div>"
      ],
      "text/plain": [
       "      Name  Age    City\n",
       "c  Charles   21  Boston\n",
       "b    Bobby   27  Munich\n",
       "a    Alice   22      NY"
      ]
     },
     "execution_count": 16,
     "metadata": {},
     "output_type": "execute_result"
    }
   ],
   "source": [
    "# Sorting by multiple colss\n",
    "sort_df1 = df2.sort_values(by=['City','Age'])\n",
    "sort_df1"
   ]
  },
  {
   "cell_type": "code",
   "execution_count": 19,
   "id": "3d605be3",
   "metadata": {},
   "outputs": [
    {
     "data": {
      "text/html": [
       "<div>\n",
       "<style scoped>\n",
       "    .dataframe tbody tr th:only-of-type {\n",
       "        vertical-align: middle;\n",
       "    }\n",
       "\n",
       "    .dataframe tbody tr th {\n",
       "        vertical-align: top;\n",
       "    }\n",
       "\n",
       "    .dataframe thead th {\n",
       "        text-align: right;\n",
       "    }\n",
       "</style>\n",
       "<table border=\"1\" class=\"dataframe\">\n",
       "  <thead>\n",
       "    <tr style=\"text-align: right;\">\n",
       "      <th></th>\n",
       "      <th>Name</th>\n",
       "      <th>Age</th>\n",
       "      <th>City</th>\n",
       "    </tr>\n",
       "  </thead>\n",
       "  <tbody>\n",
       "    <tr>\n",
       "      <th>a</th>\n",
       "      <td>Alice</td>\n",
       "      <td>22</td>\n",
       "      <td>NY</td>\n",
       "    </tr>\n",
       "    <tr>\n",
       "      <th>b</th>\n",
       "      <td>Bobby</td>\n",
       "      <td>27</td>\n",
       "      <td>Munich</td>\n",
       "    </tr>\n",
       "  </tbody>\n",
       "</table>\n",
       "</div>"
      ],
      "text/plain": [
       "    Name  Age    City\n",
       "a  Alice   22      NY\n",
       "b  Bobby   27  Munich"
      ]
     },
     "execution_count": 19,
     "metadata": {},
     "output_type": "execute_result"
    }
   ],
   "source": [
    "# Filtering Rows\n",
    "filtered_df = df2[df2['Age']>21]\n",
    "filtered_df\n",
    "\n",
    "# you can do multiple logical expressions  using & and |"
   ]
  },
  {
   "cell_type": "code",
   "execution_count": null,
   "id": "2883cbe5",
   "metadata": {},
   "outputs": [
    {
     "data": {
      "text/html": [
       "<div>\n",
       "<style scoped>\n",
       "    .dataframe tbody tr th:only-of-type {\n",
       "        vertical-align: middle;\n",
       "    }\n",
       "\n",
       "    .dataframe tbody tr th {\n",
       "        vertical-align: top;\n",
       "    }\n",
       "\n",
       "    .dataframe thead th {\n",
       "        text-align: right;\n",
       "    }\n",
       "</style>\n",
       "<table border=\"1\" class=\"dataframe\">\n",
       "  <thead>\n",
       "    <tr style=\"text-align: right;\">\n",
       "      <th></th>\n",
       "      <th>Name</th>\n",
       "      <th>Age</th>\n",
       "      <th>Age_Group</th>\n",
       "    </tr>\n",
       "  </thead>\n",
       "  <tbody>\n",
       "    <tr>\n",
       "      <th>0</th>\n",
       "      <td>Alice</td>\n",
       "      <td>25</td>\n",
       "      <td>Young</td>\n",
       "    </tr>\n",
       "    <tr>\n",
       "      <th>1</th>\n",
       "      <td>Bob</td>\n",
       "      <td>30</td>\n",
       "      <td>Middle Aged</td>\n",
       "    </tr>\n",
       "    <tr>\n",
       "      <th>2</th>\n",
       "      <td>Bob</td>\n",
       "      <td>30</td>\n",
       "      <td>Middle Aged</td>\n",
       "    </tr>\n",
       "    <tr>\n",
       "      <th>3</th>\n",
       "      <td>David</td>\n",
       "      <td>51</td>\n",
       "      <td>Old</td>\n",
       "    </tr>\n",
       "    <tr>\n",
       "      <th>4</th>\n",
       "      <td>Alice</td>\n",
       "      <td>25</td>\n",
       "      <td>Young</td>\n",
       "    </tr>\n",
       "  </tbody>\n",
       "</table>\n",
       "</div>"
      ],
      "text/plain": [
       "    Name  Age    Age_Group\n",
       "0  Alice   25        Young\n",
       "1    Bob   30  Middle Aged\n",
       "2    Bob   30  Middle Aged\n",
       "3  David   51          Old\n",
       "4  Alice   25        Young"
      ]
     },
     "execution_count": 59,
     "metadata": {},
     "output_type": "execute_result"
    }
   ],
   "source": [
    "df4.at[3,\"Age\"] = 51\n",
    "# Applying functions\n",
    "# To a column\n",
    "def age_grp(age):\n",
    "    if age < 30:\n",
    "        return \"Young\"\n",
    "    elif age < 40:\n",
    "        return \"Middle Aged\"\n",
    "    else:\n",
    "        return \"Old\"\n",
    "    \n",
    "df4['Age_Group'] = df4['Age'].apply(age_grp)\n",
    "df4 "
   ]
  },
  {
   "cell_type": "markdown",
   "id": "4c59ca6b",
   "metadata": {},
   "source": [
    "To apply to specific row use .apply({func name}, axis = 1)"
   ]
  },
  {
   "cell_type": "code",
   "execution_count": 65,
   "id": "b5c66604",
   "metadata": {},
   "outputs": [
    {
     "name": "stdout",
     "output_type": "stream",
     "text": [
      "    Name  Age    Age_Group  Ageplus5\n",
      "0  Alice   25        Young        30\n",
      "1    Bob   30  Middle Aged        35\n",
      "2    Bob   30  Middle Aged        35\n",
      "3  David   51          Old        56\n",
      "4  Alice   25        Young        30\n",
      "\n",
      "     Name  Age    Age_Group\n",
      "0  Alice   25        Young\n",
      "1    Bob   30  Middle Aged\n",
      "2    Bob   30  Middle Aged\n",
      "3  David   51          Old\n",
      "4  Alice   25        Young\n"
     ]
    }
   ],
   "source": [
    "# Vectorized operations \n",
    "# For example\n",
    "df4[\"Ageplus5\"] = df4[\"Age\"] + 5\n",
    "print(df4)\n",
    "df4 = df4.drop(columns=\"Ageplus5\")\n",
    "print(\"\\n\",df4)"
   ]
  },
  {
   "cell_type": "code",
   "execution_count": 70,
   "id": "61970fca",
   "metadata": {},
   "outputs": [
    {
     "name": "stdout",
     "output_type": "stream",
     "text": [
      "    Name  Age    Age_Group NameUpper\n",
      "0  Alice   25        Young     ALICE\n",
      "1    Bob   30  Middle Aged     BOBBY\n",
      "2    Bob   30  Middle Aged   CHARLES\n",
      "3  David   51          Old       NaN\n",
      "4  Alice   25        Young       NaN\n",
      "\n",
      "     Name  Age    Age_Group\n",
      "0  Alice   25        Young\n",
      "1    Bob   30  Middle Aged\n",
      "2    Bob   30  Middle Aged\n",
      "3  David   51          Old\n",
      "4  Alice   25        Young\n"
     ]
    }
   ],
   "source": [
    "# Vectorized string operations\n",
    "df4[\"NameUpper\"] = df[\"Name\"].str.upper()\n",
    "print(df4)\n",
    "df4 = df4.drop(columns=\"NameUpper\")\n",
    "print(\"\\n\",df4)"
   ]
  },
  {
   "cell_type": "markdown",
   "id": "f6b4058b",
   "metadata": {},
   "source": [
    "###### Mapping and Replacing Values"
   ]
  },
  {
   "cell_type": "code",
   "execution_count": 83,
   "id": "ba2689de",
   "metadata": {},
   "outputs": [
    {
     "name": "stdout",
     "output_type": "stream",
     "text": [
      "    Name  Age    Age_Group Performace grade\n",
      "0  Alice   25        Young       Good     B\n",
      "1   Carl   30  Middle Aged    Average     C\n",
      "2    Bob   30  Middle Aged       Good     B\n",
      "3  David   51          Old  Excellent     A\n",
      "4   Alex   25        Young  Excellent     A\n"
     ]
    }
   ],
   "source": [
    "#Map values based on a dict or a function\n",
    "df4.at[4 , \"Name\"] = \"Alex\"\n",
    "df4.at[1,\"Name\"] = \"Carl\"\n",
    "df4[\"Performace\"] = [\"Good\",\"Average\",\"Good\",\"Excellent\",\"Excellent\"]\n",
    "grades_map = {'Excellent':'A','Good':'B','Average':'C'}\n",
    "df4[\"grade\"] = df4[\"Performace\"].map(grades_map)\n",
    "print(df4)"
   ]
  },
  {
   "cell_type": "code",
   "execution_count": 87,
   "id": "61354680",
   "metadata": {},
   "outputs": [
    {
     "data": {
      "text/html": [
       "<div>\n",
       "<style scoped>\n",
       "    .dataframe tbody tr th:only-of-type {\n",
       "        vertical-align: middle;\n",
       "    }\n",
       "\n",
       "    .dataframe tbody tr th {\n",
       "        vertical-align: top;\n",
       "    }\n",
       "\n",
       "    .dataframe thead th {\n",
       "        text-align: right;\n",
       "    }\n",
       "</style>\n",
       "<table border=\"1\" class=\"dataframe\">\n",
       "  <thead>\n",
       "    <tr style=\"text-align: right;\">\n",
       "      <th></th>\n",
       "      <th>Name</th>\n",
       "      <th>Age</th>\n",
       "      <th>Age_Group</th>\n",
       "      <th>Performace</th>\n",
       "      <th>grade</th>\n",
       "    </tr>\n",
       "  </thead>\n",
       "  <tbody>\n",
       "    <tr>\n",
       "      <th>0</th>\n",
       "      <td>Alice</td>\n",
       "      <td>25</td>\n",
       "      <td>Young</td>\n",
       "      <td>Good</td>\n",
       "      <td>B+</td>\n",
       "    </tr>\n",
       "    <tr>\n",
       "      <th>1</th>\n",
       "      <td>Carl</td>\n",
       "      <td>30</td>\n",
       "      <td>Middle Aged</td>\n",
       "      <td>Average</td>\n",
       "      <td>C+</td>\n",
       "    </tr>\n",
       "    <tr>\n",
       "      <th>2</th>\n",
       "      <td>Bob</td>\n",
       "      <td>30</td>\n",
       "      <td>Middle Aged</td>\n",
       "      <td>Good</td>\n",
       "      <td>B+</td>\n",
       "    </tr>\n",
       "    <tr>\n",
       "      <th>3</th>\n",
       "      <td>David</td>\n",
       "      <td>51</td>\n",
       "      <td>Old</td>\n",
       "      <td>Excellent</td>\n",
       "      <td>A+</td>\n",
       "    </tr>\n",
       "    <tr>\n",
       "      <th>4</th>\n",
       "      <td>Alex</td>\n",
       "      <td>25</td>\n",
       "      <td>Young</td>\n",
       "      <td>Excellent</td>\n",
       "      <td>A+</td>\n",
       "    </tr>\n",
       "  </tbody>\n",
       "</table>\n",
       "</div>"
      ],
      "text/plain": [
       "    Name  Age    Age_Group Performace grade\n",
       "0  Alice   25        Young       Good    B+\n",
       "1   Carl   30  Middle Aged    Average    C+\n",
       "2    Bob   30  Middle Aged       Good    B+\n",
       "3  David   51          Old  Excellent    A+\n",
       "4   Alex   25        Young  Excellent    A+"
      ]
     },
     "execution_count": 87,
     "metadata": {},
     "output_type": "execute_result"
    }
   ],
   "source": [
    "# Replacing values directly\n",
    "df4[\"grade\"] = df4['grade'].replace({'A':'A+','B':'B+','C':'C+'})\n",
    "df4"
   ]
  },
  {
   "cell_type": "code",
   "execution_count": 93,
   "id": "fdfa9d91",
   "metadata": {},
   "outputs": [
    {
     "data": {
      "text/html": [
       "<div>\n",
       "<style scoped>\n",
       "    .dataframe tbody tr th:only-of-type {\n",
       "        vertical-align: middle;\n",
       "    }\n",
       "\n",
       "    .dataframe tbody tr th {\n",
       "        vertical-align: top;\n",
       "    }\n",
       "\n",
       "    .dataframe thead th {\n",
       "        text-align: right;\n",
       "    }\n",
       "</style>\n",
       "<table border=\"1\" class=\"dataframe\">\n",
       "  <thead>\n",
       "    <tr style=\"text-align: right;\">\n",
       "      <th></th>\n",
       "      <th>Name</th>\n",
       "      <th>Age</th>\n",
       "      <th>Age_Group</th>\n",
       "      <th>Performace</th>\n",
       "      <th>Grades</th>\n",
       "    </tr>\n",
       "  </thead>\n",
       "  <tbody>\n",
       "    <tr>\n",
       "      <th>0</th>\n",
       "      <td>Alice</td>\n",
       "      <td>25</td>\n",
       "      <td>Young</td>\n",
       "      <td>Good</td>\n",
       "      <td>B+</td>\n",
       "    </tr>\n",
       "    <tr>\n",
       "      <th>1</th>\n",
       "      <td>Carl</td>\n",
       "      <td>30</td>\n",
       "      <td>Middle Aged</td>\n",
       "      <td>Average</td>\n",
       "      <td>C+</td>\n",
       "    </tr>\n",
       "    <tr>\n",
       "      <th>2</th>\n",
       "      <td>Bob</td>\n",
       "      <td>30</td>\n",
       "      <td>Middle Aged</td>\n",
       "      <td>Good</td>\n",
       "      <td>B+</td>\n",
       "    </tr>\n",
       "    <tr>\n",
       "      <th>3</th>\n",
       "      <td>David</td>\n",
       "      <td>51</td>\n",
       "      <td>Old</td>\n",
       "      <td>Excellent</td>\n",
       "      <td>A+</td>\n",
       "    </tr>\n",
       "    <tr>\n",
       "      <th>4</th>\n",
       "      <td>Alex</td>\n",
       "      <td>25</td>\n",
       "      <td>Young</td>\n",
       "      <td>Excellent</td>\n",
       "      <td>A+</td>\n",
       "    </tr>\n",
       "  </tbody>\n",
       "</table>\n",
       "</div>"
      ],
      "text/plain": [
       "    Name  Age    Age_Group Performace Grades\n",
       "0  Alice   25        Young       Good     B+\n",
       "1   Carl   30  Middle Aged    Average     C+\n",
       "2    Bob   30  Middle Aged       Good     B+\n",
       "3  David   51          Old  Excellent     A+\n",
       "4   Alex   25        Young  Excellent     A+"
      ]
     },
     "execution_count": 93,
     "metadata": {},
     "output_type": "execute_result"
    }
   ],
   "source": [
    "df4.rename(columns={\"grade\":\"Grades\"},inplace=True) #just capitalized the G\n",
    "df4"
   ]
  },
  {
   "cell_type": "code",
   "execution_count": 94,
   "id": "69790644",
   "metadata": {},
   "outputs": [],
   "source": [
    "# Sometimes when you want to set one of your colums as the index then you can use\n",
    "\n",
    "#    df4.set_index({Col name}, inplace=True)"
   ]
  },
  {
   "cell_type": "markdown",
   "id": "7648f688",
   "metadata": {},
   "source": [
    "#### Module 6 Grouping , Aggregation & Pivoting\n"
   ]
  },
  {
   "cell_type": "code",
   "execution_count": 3,
   "id": "9d8f1634",
   "metadata": {},
   "outputs": [
    {
     "data": {
      "text/plain": [
       "Region\n",
       "East     550\n",
       "North    400\n",
       "South    150\n",
       "West     450\n",
       "Name: Sales, dtype: int64"
      ]
     },
     "execution_count": 3,
     "metadata": {},
     "output_type": "execute_result"
    }
   ],
   "source": [
    "data2 = {'Region': ['East', 'West', 'East', 'West', 'North', 'South', 'East'],'Salesperson': ['Anna', 'Ben', 'Anna', 'Diana', 'Ben', 'Anna', 'Diana'],'Sales': [250, 150, 200, 300, 400, 150, 100] }\n",
    "df5 = pd.DataFrame(data2)\n",
    "df5_grouped = df5.groupby(\"Region\")[\"Sales\"].sum() #Group by \"Region\" and sum sales\n",
    "df5_grouped\n"
   ]
  },
  {
   "cell_type": "code",
   "execution_count": 19,
   "id": "a79a672b",
   "metadata": {},
   "outputs": [
    {
     "data": {
      "text/plain": [
       "Region  Salesperson\n",
       "East    Anna           450\n",
       "        Diana          100\n",
       "North   Ben            400\n",
       "South   Anna           150\n",
       "West    Ben            150\n",
       "        Diana          300\n",
       "Name: Sales, dtype: int64"
      ]
     },
     "execution_count": 19,
     "metadata": {},
     "output_type": "execute_result"
    }
   ],
   "source": [
    "# Group by multiple columns\n",
    "df5_grouped = df5.groupby([\"Region\",\"Salesperson\"])[\"Sales\"].sum()\n",
    "df5_grouped"
   ]
  },
  {
   "cell_type": "code",
   "execution_count": null,
   "id": "4140f091",
   "metadata": {},
   "outputs": [
    {
     "data": {
      "text/html": [
       "<div>\n",
       "<style scoped>\n",
       "    .dataframe tbody tr th:only-of-type {\n",
       "        vertical-align: middle;\n",
       "    }\n",
       "\n",
       "    .dataframe tbody tr th {\n",
       "        vertical-align: top;\n",
       "    }\n",
       "\n",
       "    .dataframe thead th {\n",
       "        text-align: right;\n",
       "    }\n",
       "</style>\n",
       "<table border=\"1\" class=\"dataframe\">\n",
       "  <thead>\n",
       "    <tr style=\"text-align: right;\">\n",
       "      <th></th>\n",
       "      <th>Region</th>\n",
       "      <th>Salesperson</th>\n",
       "      <th>Sales</th>\n",
       "    </tr>\n",
       "  </thead>\n",
       "  <tbody>\n",
       "    <tr>\n",
       "      <th>0</th>\n",
       "      <td>East</td>\n",
       "      <td>Anna</td>\n",
       "      <td>450</td>\n",
       "    </tr>\n",
       "    <tr>\n",
       "      <th>1</th>\n",
       "      <td>East</td>\n",
       "      <td>Diana</td>\n",
       "      <td>100</td>\n",
       "    </tr>\n",
       "    <tr>\n",
       "      <th>2</th>\n",
       "      <td>North</td>\n",
       "      <td>Ben</td>\n",
       "      <td>400</td>\n",
       "    </tr>\n",
       "    <tr>\n",
       "      <th>3</th>\n",
       "      <td>South</td>\n",
       "      <td>Anna</td>\n",
       "      <td>150</td>\n",
       "    </tr>\n",
       "    <tr>\n",
       "      <th>4</th>\n",
       "      <td>West</td>\n",
       "      <td>Ben</td>\n",
       "      <td>150</td>\n",
       "    </tr>\n",
       "    <tr>\n",
       "      <th>5</th>\n",
       "      <td>West</td>\n",
       "      <td>Diana</td>\n",
       "      <td>300</td>\n",
       "    </tr>\n",
       "  </tbody>\n",
       "</table>\n",
       "</div>"
      ],
      "text/plain": [
       "  Region Salesperson  Sales\n",
       "0   East        Anna    450\n",
       "1   East       Diana    100\n",
       "2  North         Ben    400\n",
       "3  South        Anna    150\n",
       "4   West         Ben    150\n",
       "5   West       Diana    300"
      ]
     },
     "execution_count": 23,
     "metadata": {},
     "output_type": "execute_result"
    }
   ],
   "source": [
    "# To convert it back into DF from grouped versions\n",
    "df5_grouped = df5_grouped.reset_index()\n",
    "df5_grouped.drop(columns=[\"level_0\",\"index\"])"
   ]
  },
  {
   "cell_type": "markdown",
   "id": "24961ca8",
   "metadata": {},
   "source": [
    "###### Aggregation Functions\n",
    "- `.sum()`, `.mean()`, `.median()`, `.max()`, `.min()`, `.count()`, `.std()` (standard deviation), `.var()` (variance)"
   ]
  },
  {
   "cell_type": "code",
   "execution_count": 25,
   "id": "4f255841",
   "metadata": {},
   "outputs": [
    {
     "data": {
      "text/html": [
       "<div>\n",
       "<style scoped>\n",
       "    .dataframe tbody tr th:only-of-type {\n",
       "        vertical-align: middle;\n",
       "    }\n",
       "\n",
       "    .dataframe tbody tr th {\n",
       "        vertical-align: top;\n",
       "    }\n",
       "\n",
       "    .dataframe thead th {\n",
       "        text-align: right;\n",
       "    }\n",
       "</style>\n",
       "<table border=\"1\" class=\"dataframe\">\n",
       "  <thead>\n",
       "    <tr style=\"text-align: right;\">\n",
       "      <th></th>\n",
       "      <th>sum</th>\n",
       "      <th>mean</th>\n",
       "      <th>count</th>\n",
       "    </tr>\n",
       "    <tr>\n",
       "      <th>Region</th>\n",
       "      <th></th>\n",
       "      <th></th>\n",
       "      <th></th>\n",
       "    </tr>\n",
       "  </thead>\n",
       "  <tbody>\n",
       "    <tr>\n",
       "      <th>East</th>\n",
       "      <td>550</td>\n",
       "      <td>183.333333</td>\n",
       "      <td>3</td>\n",
       "    </tr>\n",
       "    <tr>\n",
       "      <th>North</th>\n",
       "      <td>400</td>\n",
       "      <td>400.000000</td>\n",
       "      <td>1</td>\n",
       "    </tr>\n",
       "    <tr>\n",
       "      <th>South</th>\n",
       "      <td>150</td>\n",
       "      <td>150.000000</td>\n",
       "      <td>1</td>\n",
       "    </tr>\n",
       "    <tr>\n",
       "      <th>West</th>\n",
       "      <td>450</td>\n",
       "      <td>225.000000</td>\n",
       "      <td>2</td>\n",
       "    </tr>\n",
       "  </tbody>\n",
       "</table>\n",
       "</div>"
      ],
      "text/plain": [
       "        sum        mean  count\n",
       "Region                        \n",
       "East    550  183.333333      3\n",
       "North   400  400.000000      1\n",
       "South   150  150.000000      1\n",
       "West    450  225.000000      2"
      ]
     },
     "execution_count": 25,
     "metadata": {},
     "output_type": "execute_result"
    }
   ],
   "source": [
    "#use multiple aggregate func on one DF\n",
    "df5_grouped = df5.groupby(\"Region\")[\"Sales\"].agg([\"sum\",\"mean\",\"count\"])\n",
    "df5_grouped"
   ]
  },
  {
   "cell_type": "code",
   "execution_count": 26,
   "id": "2b82b23a",
   "metadata": {},
   "outputs": [],
   "source": [
    "# you can also use user defined funcs in .agg\n",
    "#   df5_grouped = df5.groupby(\"Region\")[\"Sales\"].agg([\"sum\",\"mean\",{ur func name without \"\"}])\n"
   ]
  },
  {
   "cell_type": "code",
   "execution_count": null,
   "id": "66f9d744",
   "metadata": {},
   "outputs": [
    {
     "data": {
      "text/html": [
       "<div>\n",
       "<style scoped>\n",
       "    .dataframe tbody tr th:only-of-type {\n",
       "        vertical-align: middle;\n",
       "    }\n",
       "\n",
       "    .dataframe tbody tr th {\n",
       "        vertical-align: top;\n",
       "    }\n",
       "\n",
       "    .dataframe thead tr th {\n",
       "        text-align: left;\n",
       "    }\n",
       "\n",
       "    .dataframe thead tr:last-of-type th {\n",
       "        text-align: right;\n",
       "    }\n",
       "</style>\n",
       "<table border=\"1\" class=\"dataframe\">\n",
       "  <thead>\n",
       "    <tr>\n",
       "      <th></th>\n",
       "      <th colspan=\"2\" halign=\"left\">Sales</th>\n",
       "      <th colspan=\"2\" halign=\"left\">Expenses</th>\n",
       "    </tr>\n",
       "    <tr>\n",
       "      <th></th>\n",
       "      <th>sum</th>\n",
       "      <th>mean</th>\n",
       "      <th>sum</th>\n",
       "      <th>mean</th>\n",
       "    </tr>\n",
       "    <tr>\n",
       "      <th>Region</th>\n",
       "      <th></th>\n",
       "      <th></th>\n",
       "      <th></th>\n",
       "      <th></th>\n",
       "    </tr>\n",
       "  </thead>\n",
       "  <tbody>\n",
       "    <tr>\n",
       "      <th>East</th>\n",
       "      <td>550</td>\n",
       "      <td>183.333333</td>\n",
       "      <td>190</td>\n",
       "      <td>63.333333</td>\n",
       "    </tr>\n",
       "    <tr>\n",
       "      <th>North</th>\n",
       "      <td>400</td>\n",
       "      <td>400.000000</td>\n",
       "      <td>150</td>\n",
       "      <td>150.000000</td>\n",
       "    </tr>\n",
       "    <tr>\n",
       "      <th>South</th>\n",
       "      <td>150</td>\n",
       "      <td>150.000000</td>\n",
       "      <td>70</td>\n",
       "      <td>70.000000</td>\n",
       "    </tr>\n",
       "    <tr>\n",
       "      <th>West</th>\n",
       "      <td>450</td>\n",
       "      <td>225.000000</td>\n",
       "      <td>170</td>\n",
       "      <td>85.000000</td>\n",
       "    </tr>\n",
       "  </tbody>\n",
       "</table>\n",
       "</div>"
      ],
      "text/plain": [
       "       Sales             Expenses            \n",
       "         sum        mean      sum        mean\n",
       "Region                                       \n",
       "East     550  183.333333      190   63.333333\n",
       "North    400  400.000000      150  150.000000\n",
       "South    150  150.000000       70   70.000000\n",
       "West     450  225.000000      170   85.000000"
      ]
     },
     "execution_count": 35,
     "metadata": {},
     "output_type": "execute_result"
    }
   ],
   "source": [
    "# Aggregation on multiple columns\n",
    "df5[\"Expenses\"] = [100,50,60,120,150,70,30]\n",
    "df5_grouped = df5.groupby(\"Region\").agg({'Sales':['sum','mean'] , \"Expenses\" : ['sum','mean']})\n",
    "df5_grouped\n"
   ]
  },
  {
   "cell_type": "code",
   "execution_count": 31,
   "id": "0160c1d2",
   "metadata": {},
   "outputs": [
    {
     "data": {
      "text/html": [
       "<div>\n",
       "<style scoped>\n",
       "    .dataframe tbody tr th:only-of-type {\n",
       "        vertical-align: middle;\n",
       "    }\n",
       "\n",
       "    .dataframe tbody tr th {\n",
       "        vertical-align: top;\n",
       "    }\n",
       "\n",
       "    .dataframe thead th {\n",
       "        text-align: right;\n",
       "    }\n",
       "</style>\n",
       "<table border=\"1\" class=\"dataframe\">\n",
       "  <thead>\n",
       "    <tr style=\"text-align: right;\">\n",
       "      <th>Salesperson</th>\n",
       "      <th>Anna</th>\n",
       "      <th>Ben</th>\n",
       "      <th>Diana</th>\n",
       "    </tr>\n",
       "    <tr>\n",
       "      <th>Region</th>\n",
       "      <th></th>\n",
       "      <th></th>\n",
       "      <th></th>\n",
       "    </tr>\n",
       "  </thead>\n",
       "  <tbody>\n",
       "    <tr>\n",
       "      <th>East</th>\n",
       "      <td>450</td>\n",
       "      <td>0</td>\n",
       "      <td>100</td>\n",
       "    </tr>\n",
       "    <tr>\n",
       "      <th>North</th>\n",
       "      <td>0</td>\n",
       "      <td>400</td>\n",
       "      <td>0</td>\n",
       "    </tr>\n",
       "    <tr>\n",
       "      <th>South</th>\n",
       "      <td>150</td>\n",
       "      <td>0</td>\n",
       "      <td>0</td>\n",
       "    </tr>\n",
       "    <tr>\n",
       "      <th>West</th>\n",
       "      <td>0</td>\n",
       "      <td>150</td>\n",
       "      <td>300</td>\n",
       "    </tr>\n",
       "  </tbody>\n",
       "</table>\n",
       "</div>"
      ],
      "text/plain": [
       "Salesperson  Anna  Ben  Diana\n",
       "Region                       \n",
       "East          450    0    100\n",
       "North           0  400      0\n",
       "South         150    0      0\n",
       "West            0  150    300"
      ]
     },
     "execution_count": 31,
     "metadata": {},
     "output_type": "execute_result"
    }
   ],
   "source": [
    "df5_pivot = df5.pivot_table(values='Sales',index='Region',columns=\"Salesperson\",aggfunc='sum',fill_value=0)\n",
    "df5_pivot"
   ]
  },
  {
   "cell_type": "code",
   "execution_count": 33,
   "id": "f45b6d14",
   "metadata": {},
   "outputs": [
    {
     "data": {
      "text/html": [
       "<div>\n",
       "<style scoped>\n",
       "    .dataframe tbody tr th:only-of-type {\n",
       "        vertical-align: middle;\n",
       "    }\n",
       "\n",
       "    .dataframe tbody tr th {\n",
       "        vertical-align: top;\n",
       "    }\n",
       "\n",
       "    .dataframe thead th {\n",
       "        text-align: right;\n",
       "    }\n",
       "</style>\n",
       "<table border=\"1\" class=\"dataframe\">\n",
       "  <thead>\n",
       "    <tr style=\"text-align: right;\">\n",
       "      <th>Salesperson</th>\n",
       "      <th>Anna</th>\n",
       "      <th>Ben</th>\n",
       "      <th>Diana</th>\n",
       "    </tr>\n",
       "    <tr>\n",
       "      <th>Region</th>\n",
       "      <th></th>\n",
       "      <th></th>\n",
       "      <th></th>\n",
       "    </tr>\n",
       "  </thead>\n",
       "  <tbody>\n",
       "    <tr>\n",
       "      <th>East</th>\n",
       "      <td>2</td>\n",
       "      <td>0</td>\n",
       "      <td>1</td>\n",
       "    </tr>\n",
       "    <tr>\n",
       "      <th>North</th>\n",
       "      <td>0</td>\n",
       "      <td>1</td>\n",
       "      <td>0</td>\n",
       "    </tr>\n",
       "    <tr>\n",
       "      <th>South</th>\n",
       "      <td>1</td>\n",
       "      <td>0</td>\n",
       "      <td>0</td>\n",
       "    </tr>\n",
       "    <tr>\n",
       "      <th>West</th>\n",
       "      <td>0</td>\n",
       "      <td>1</td>\n",
       "      <td>1</td>\n",
       "    </tr>\n",
       "  </tbody>\n",
       "</table>\n",
       "</div>"
      ],
      "text/plain": [
       "Salesperson  Anna  Ben  Diana\n",
       "Region                       \n",
       "East            2    0      1\n",
       "North           0    1      0\n",
       "South           1    0      0\n",
       "West            0    1      1"
      ]
     },
     "execution_count": 33,
     "metadata": {},
     "output_type": "execute_result"
    }
   ],
   "source": [
    "df5_crosstab = pd.crosstab(df5['Region'],df5[\"Salesperson\"])\n",
    "df5_crosstab"
   ]
  },
  {
   "cell_type": "code",
   "execution_count": 5,
   "id": "8fbb9f0b",
   "metadata": {},
   "outputs": [
    {
     "data": {
      "text/html": [
       "<div>\n",
       "<style scoped>\n",
       "    .dataframe tbody tr th:only-of-type {\n",
       "        vertical-align: middle;\n",
       "    }\n",
       "\n",
       "    .dataframe tbody tr th {\n",
       "        vertical-align: top;\n",
       "    }\n",
       "\n",
       "    .dataframe thead th {\n",
       "        text-align: right;\n",
       "    }\n",
       "</style>\n",
       "<table border=\"1\" class=\"dataframe\">\n",
       "  <thead>\n",
       "    <tr style=\"text-align: right;\">\n",
       "      <th></th>\n",
       "      <th>Region</th>\n",
       "      <th>Salesperson</th>\n",
       "      <th>Sales</th>\n",
       "      <th>Sales_norm</th>\n",
       "    </tr>\n",
       "  </thead>\n",
       "  <tbody>\n",
       "    <tr>\n",
       "      <th>0</th>\n",
       "      <td>East</td>\n",
       "      <td>Anna</td>\n",
       "      <td>250</td>\n",
       "      <td>0.872872</td>\n",
       "    </tr>\n",
       "    <tr>\n",
       "      <th>1</th>\n",
       "      <td>West</td>\n",
       "      <td>Ben</td>\n",
       "      <td>150</td>\n",
       "      <td>-0.707107</td>\n",
       "    </tr>\n",
       "    <tr>\n",
       "      <th>2</th>\n",
       "      <td>East</td>\n",
       "      <td>Anna</td>\n",
       "      <td>200</td>\n",
       "      <td>0.218218</td>\n",
       "    </tr>\n",
       "    <tr>\n",
       "      <th>3</th>\n",
       "      <td>West</td>\n",
       "      <td>Diana</td>\n",
       "      <td>300</td>\n",
       "      <td>0.707107</td>\n",
       "    </tr>\n",
       "    <tr>\n",
       "      <th>4</th>\n",
       "      <td>North</td>\n",
       "      <td>Ben</td>\n",
       "      <td>400</td>\n",
       "      <td>NaN</td>\n",
       "    </tr>\n",
       "    <tr>\n",
       "      <th>5</th>\n",
       "      <td>South</td>\n",
       "      <td>Anna</td>\n",
       "      <td>150</td>\n",
       "      <td>NaN</td>\n",
       "    </tr>\n",
       "    <tr>\n",
       "      <th>6</th>\n",
       "      <td>East</td>\n",
       "      <td>Diana</td>\n",
       "      <td>100</td>\n",
       "      <td>-1.091089</td>\n",
       "    </tr>\n",
       "  </tbody>\n",
       "</table>\n",
       "</div>"
      ],
      "text/plain": [
       "  Region Salesperson  Sales  Sales_norm\n",
       "0   East        Anna    250    0.872872\n",
       "1   West         Ben    150   -0.707107\n",
       "2   East        Anna    200    0.218218\n",
       "3   West       Diana    300    0.707107\n",
       "4  North         Ben    400         NaN\n",
       "5  South        Anna    150         NaN\n",
       "6   East       Diana    100   -1.091089"
      ]
     },
     "execution_count": 5,
     "metadata": {},
     "output_type": "execute_result"
    }
   ],
   "source": [
    "# Transformation Vs Aggregation\n",
    "\n",
    "\n",
    "#.tranform()\n",
    "#.agg()\n",
    "\n",
    "df5[\"Sales_norm\"] = df5.groupby('Region')['Sales'].transform(lambda x : (x-x.mean())/x.std())\n",
    "df5"
   ]
  },
  {
   "cell_type": "code",
   "execution_count": 18,
   "id": "3c7f4361",
   "metadata": {},
   "outputs": [
    {
     "name": "stdout",
     "output_type": "stream",
     "text": [
      "  Region Salesperson  Sales  Sales_norm\n",
      "0   East        Anna    250    0.872872\n",
      "1   West         Ben    150   -0.707107\n",
      "2   East        Anna    200    0.218218\n",
      "3   West       Diana    300    0.707107\n",
      "6   East       Diana    100   -1.091089\n"
     ]
    }
   ],
   "source": [
    "# Filter groups\n",
    "print(df5.groupby('Region').filter(lambda x : x['Sales'].sum() >400))"
   ]
  },
  {
   "cell_type": "code",
   "execution_count": 4,
   "id": "1903cd5e",
   "metadata": {},
   "outputs": [
    {
     "name": "stdout",
     "output_type": "stream",
     "text": [
      "Region:East\n",
      "  Region Salesperson  Sales\n",
      "0   East        Anna    250\n",
      "2   East        Anna    200\n",
      "6   East       Diana    100\n",
      "\n",
      "Region:North\n",
      "  Region Salesperson  Sales\n",
      "4  North         Ben    400\n",
      "\n",
      "Region:South\n",
      "  Region Salesperson  Sales\n",
      "5  South        Anna    150\n",
      "\n",
      "Region:West\n",
      "  Region Salesperson  Sales\n",
      "1   West         Ben    150\n",
      "3   West       Diana    300\n",
      "\n"
     ]
    }
   ],
   "source": [
    "# Iterating over Groups\n",
    "for region, group in df5.groupby('Region'):\n",
    "    print(f\"Region:{region}\")\n",
    "    print(group)\n",
    "    print()"
   ]
  },
  {
   "cell_type": "markdown",
   "id": "5956bc58",
   "metadata": {},
   "source": [
    "##### Bonus: Advanced GroupBy Features\n",
    "\n",
    "- **`as_index` argument:** By default `groupby` uses grouping columns as index. Use `as_index=False` to keep as columns.\n",
    "    \n",
    "    python\n",
    "    \n",
    "    \n",
    "    \n",
    "    `df.groupby('Region', as_index=False)['Sales'].sum()`\n",
    "    \n",
    "- **`group_keys` argument:** Controls whether group keys are included in the result.\n",
    "    \n",
    "- **`named aggregation` (Pandas 0.25+):**\n"
   ]
  },
  {
   "cell_type": "markdown",
   "id": "2997f143",
   "metadata": {},
   "source": [
    "#### Module 7 : Merging Joining and Concantations"
   ]
  },
  {
   "cell_type": "code",
   "execution_count": 8,
   "id": "8e6bd188",
   "metadata": {},
   "outputs": [
    {
     "name": "stdout",
     "output_type": "stream",
     "text": [
      "    A   B\n",
      "0  A0  B0\n",
      "1  A1  B1\n",
      "0  A2  B2\n",
      "1  A3  B3 \n",
      "\n",
      "    A   B   A   B\n",
      "0  A0  B0  A2  B2\n",
      "1  A1  B1  A3  B3 \n",
      "\n"
     ]
    }
   ],
   "source": [
    "# pd.concat() is used axis = 0 {default, stack rows} and axis = 1 {stack cols}\n",
    "\n",
    "df6 = pd.DataFrame({'A':['A0','A1'],'B':['B0','B1']})\n",
    "df7 = pd.DataFrame({'A':['A2','A3'],'B':['B2','B3']})\n",
    "df_result = pd.concat([df6,df7])\n",
    "print(df_result,\"\\n\")\n",
    "df_result = pd.concat([df6,df7],axis=1)\n",
    "print(df_result,\"\\n\")\n",
    "\n",
    "# What i infer from this that at least one thing must be common bte the data either a row or a column"
   ]
  },
  {
   "cell_type": "code",
   "execution_count": null,
   "id": "0bab7345",
   "metadata": {},
   "outputs": [
    {
     "data": {
      "text/html": [
       "<div>\n",
       "<style scoped>\n",
       "    .dataframe tbody tr th:only-of-type {\n",
       "        vertical-align: middle;\n",
       "    }\n",
       "\n",
       "    .dataframe tbody tr th {\n",
       "        vertical-align: top;\n",
       "    }\n",
       "\n",
       "    .dataframe thead th {\n",
       "        text-align: right;\n",
       "    }\n",
       "</style>\n",
       "<table border=\"1\" class=\"dataframe\">\n",
       "  <thead>\n",
       "    <tr style=\"text-align: right;\">\n",
       "      <th></th>\n",
       "      <th>Key</th>\n",
       "      <th>A</th>\n",
       "      <th>B</th>\n",
       "    </tr>\n",
       "  </thead>\n",
       "  <tbody>\n",
       "    <tr>\n",
       "      <th>0</th>\n",
       "      <td>K0</td>\n",
       "      <td>A0</td>\n",
       "      <td>B0</td>\n",
       "    </tr>\n",
       "    <tr>\n",
       "      <th>1</th>\n",
       "      <td>K1</td>\n",
       "      <td>A1</td>\n",
       "      <td>B1</td>\n",
       "    </tr>\n",
       "    <tr>\n",
       "      <th>2</th>\n",
       "      <td>K2</td>\n",
       "      <td>A2</td>\n",
       "      <td>B2</td>\n",
       "    </tr>\n",
       "  </tbody>\n",
       "</table>\n",
       "</div>"
      ],
      "text/plain": [
       "  Key   A   B\n",
       "0  K0  A0  B0\n",
       "1  K1  A1  B1\n",
       "2  K2  A2  B2"
      ]
     },
     "execution_count": 9,
     "metadata": {},
     "output_type": "execute_result"
    }
   ],
   "source": [
    "# Merging with pd.merge()\n",
    "\n",
    "left = pd.DataFrame({'Key':[\"K0\",\"K1\",\"K2\"] , \"A\":['A0','A1','A2']})\n",
    "right = pd.DataFrame({'Key':[\"K0\",\"K1\",\"K2\"] , \"B\":['B0','B1','B2']})\n",
    "merged = pd.merge(left , right , on='Key')\n",
    "merged"
   ]
  },
  {
   "cell_type": "markdown",
   "id": "7d41e568",
   "metadata": {},
   "source": [
    "`on='key'`: Merge on the 'key' column present in both DataFrames \\\n",
    "Default join type is `inner` , so only keys present in both are kept"
   ]
  },
  {
   "cell_type": "markdown",
   "id": "75ae529b",
   "metadata": {},
   "source": [
    "Types of joins in pd.merge()\n",
    "\n",
    "- `inner` (default): intersection of keys\n",
    "    \n",
    "- `left`: all keys from left + matching from right\n",
    "    \n",
    "- `right`: all keys from right + matching from left\n",
    "    \n",
    "- `outer`: union of keys (all keys from both sides, missing filled with NaN)\n",
    "\n",
    "- `cross` and a few more"
   ]
  },
  {
   "cell_type": "code",
   "execution_count": 16,
   "id": "7941de91",
   "metadata": {},
   "outputs": [
    {
     "name": "stdout",
     "output_type": "stream",
     "text": [
      "  Key   A   B\n",
      "0  K0  A0  B0\n",
      "1  K1  A1  B1\n",
      "2  K2  A2  B2\n"
     ]
    }
   ],
   "source": [
    "#Example of other type of join\n",
    "merged1 = pd.merge(left ,right , on= 'Key', how='left')\n",
    "print(merged1) "
   ]
  },
  {
   "cell_type": "code",
   "execution_count": 19,
   "id": "26d07f72",
   "metadata": {},
   "outputs": [
    {
     "data": {
      "text/html": [
       "<div>\n",
       "<style scoped>\n",
       "    .dataframe tbody tr th:only-of-type {\n",
       "        vertical-align: middle;\n",
       "    }\n",
       "\n",
       "    .dataframe tbody tr th {\n",
       "        vertical-align: top;\n",
       "    }\n",
       "\n",
       "    .dataframe thead th {\n",
       "        text-align: right;\n",
       "    }\n",
       "</style>\n",
       "<table border=\"1\" class=\"dataframe\">\n",
       "  <thead>\n",
       "    <tr style=\"text-align: right;\">\n",
       "      <th></th>\n",
       "      <th>key1</th>\n",
       "      <th>key2</th>\n",
       "      <th>A</th>\n",
       "      <th>B</th>\n",
       "    </tr>\n",
       "  </thead>\n",
       "  <tbody>\n",
       "    <tr>\n",
       "      <th>0</th>\n",
       "      <td>K0</td>\n",
       "      <td>K0</td>\n",
       "      <td>A0</td>\n",
       "      <td>B0</td>\n",
       "    </tr>\n",
       "    <tr>\n",
       "      <th>1</th>\n",
       "      <td>K1</td>\n",
       "      <td>K0</td>\n",
       "      <td>A1</td>\n",
       "      <td>B1</td>\n",
       "    </tr>\n",
       "    <tr>\n",
       "      <th>2</th>\n",
       "      <td>K1</td>\n",
       "      <td>K0</td>\n",
       "      <td>A1</td>\n",
       "      <td>B2</td>\n",
       "    </tr>\n",
       "    <tr>\n",
       "      <th>3</th>\n",
       "      <td>K1</td>\n",
       "      <td>K1</td>\n",
       "      <td>A3</td>\n",
       "      <td>B3</td>\n",
       "    </tr>\n",
       "  </tbody>\n",
       "</table>\n",
       "</div>"
      ],
      "text/plain": [
       "  key1 key2   A   B\n",
       "0   K0   K0  A0  B0\n",
       "1   K1   K0  A1  B1\n",
       "2   K1   K0  A1  B2\n",
       "3   K1   K1  A3  B3"
      ]
     },
     "execution_count": 19,
     "metadata": {},
     "output_type": "execute_result"
    }
   ],
   "source": [
    "# merging on multiple cols\n",
    "left_multi = pd.DataFrame({ 'key1': ['K0', 'K1', 'K0', 'K1'], 'key2': ['K0', 'K0', 'K1', 'K1'], 'A': ['A0', 'A1', 'A2', 'A3'] })\n",
    "right_multi = pd.DataFrame({ 'key1': ['K0', 'K1', 'K1', 'K1'], 'key2': ['K0', 'K0', 'K0', 'K1'], 'B': ['B0', 'B1', 'B2', 'B3'] })\n",
    "merged2 = pd.merge(left_multi , right_multi , on=['key1','key2'],how='inner')\n",
    "merged2"
   ]
  },
  {
   "cell_type": "code",
   "execution_count": 30,
   "id": "8e6c1f46",
   "metadata": {},
   "outputs": [
    {
     "data": {
      "text/html": [
       "<div>\n",
       "<style scoped>\n",
       "    .dataframe tbody tr th:only-of-type {\n",
       "        vertical-align: middle;\n",
       "    }\n",
       "\n",
       "    .dataframe tbody tr th {\n",
       "        vertical-align: top;\n",
       "    }\n",
       "\n",
       "    .dataframe thead th {\n",
       "        text-align: right;\n",
       "    }\n",
       "</style>\n",
       "<table border=\"1\" class=\"dataframe\">\n",
       "  <thead>\n",
       "    <tr style=\"text-align: right;\">\n",
       "      <th></th>\n",
       "      <th>A</th>\n",
       "      <th>b</th>\n",
       "    </tr>\n",
       "  </thead>\n",
       "  <tbody>\n",
       "    <tr>\n",
       "      <th>k0</th>\n",
       "      <td>a0</td>\n",
       "      <td>b0</td>\n",
       "    </tr>\n",
       "    <tr>\n",
       "      <th>k1</th>\n",
       "      <td>a1</td>\n",
       "      <td>b1</td>\n",
       "    </tr>\n",
       "    <tr>\n",
       "      <th>k2</th>\n",
       "      <td>a2</td>\n",
       "      <td>b2</td>\n",
       "    </tr>\n",
       "  </tbody>\n",
       "</table>\n",
       "</div>"
      ],
      "text/plain": [
       "     A   b\n",
       "k0  a0  b0\n",
       "k1  a1  b1\n",
       "k2  a2  b2"
      ]
     },
     "execution_count": 30,
     "metadata": {},
     "output_type": "execute_result"
    }
   ],
   "source": [
    "left_in = pd.DataFrame({'A':[\"a0\",\"a1\",\"a2\"]},index=['k0','k1','k2'])\n",
    "right_in = pd.DataFrame({'b':[\"b0\",\"b1\",\"b2\"]},index=['k0','k1','k2'])\n",
    "merged3 = pd.merge(left_in,right_in , left_index=True , right_index=True , how='outer')\n",
    "merged3"
   ]
  },
  {
   "cell_type": "code",
   "execution_count": 36,
   "id": "dbdcf7be",
   "metadata": {},
   "outputs": [
    {
     "data": {
      "text/html": [
       "<div>\n",
       "<style scoped>\n",
       "    .dataframe tbody tr th:only-of-type {\n",
       "        vertical-align: middle;\n",
       "    }\n",
       "\n",
       "    .dataframe tbody tr th {\n",
       "        vertical-align: top;\n",
       "    }\n",
       "\n",
       "    .dataframe thead th {\n",
       "        text-align: right;\n",
       "    }\n",
       "</style>\n",
       "<table border=\"1\" class=\"dataframe\">\n",
       "  <thead>\n",
       "    <tr style=\"text-align: right;\">\n",
       "      <th></th>\n",
       "      <th>A</th>\n",
       "      <th>b</th>\n",
       "    </tr>\n",
       "  </thead>\n",
       "  <tbody>\n",
       "    <tr>\n",
       "      <th>k0</th>\n",
       "      <td>a0</td>\n",
       "      <td>b0</td>\n",
       "    </tr>\n",
       "    <tr>\n",
       "      <th>k1</th>\n",
       "      <td>a1</td>\n",
       "      <td>b1</td>\n",
       "    </tr>\n",
       "    <tr>\n",
       "      <th>k2</th>\n",
       "      <td>a2</td>\n",
       "      <td>NaN</td>\n",
       "    </tr>\n",
       "    <tr>\n",
       "      <th>k3</th>\n",
       "      <td>NaN</td>\n",
       "      <td>b2</td>\n",
       "    </tr>\n",
       "  </tbody>\n",
       "</table>\n",
       "</div>"
      ],
      "text/plain": [
       "      A    b\n",
       "k0   a0   b0\n",
       "k1   a1   b1\n",
       "k2   a2  NaN\n",
       "k3  NaN   b2"
      ]
     },
     "execution_count": 36,
     "metadata": {},
     "output_type": "execute_result"
    }
   ],
   "source": [
    "left_in = pd.DataFrame({'A':[\"a0\",\"a1\",\"a2\"]},index=['k0','k1','k2'])\n",
    "right_in = pd.DataFrame({'b':[\"b0\",\"b1\",\"b2\"]},index=['k0','k1','k3'])\n",
    "joined = left_in.join(right_in , how='outer')\n",
    "joined # Basically like merge just another method to do it"
   ]
  },
  {
   "cell_type": "code",
   "execution_count": 42,
   "id": "61f9cc8d",
   "metadata": {},
   "outputs": [
    {
     "name": "stdout",
     "output_type": "stream",
     "text": [
      "default perfixes :\n",
      "   Key A_x A_y\n",
      "0  K0  A0  B0\n",
      "1  K1  A1  B1\n",
      "2  K2  A2  B2\n",
      "\n",
      " custom prefixes perfixes :\n",
      "   Key A_left A_right\n",
      "0  K0     A0      B0\n",
      "1  K1     A1      B1\n",
      "2  K2     A2      B2\n"
     ]
    }
   ],
   "source": [
    "left = pd.DataFrame({'Key':[\"K0\",\"K1\",\"K2\"] , \"A\":['A0','A1','A2']})\n",
    "right = pd.DataFrame({'Key':[\"K0\",\"K1\",\"K2\"] , \"A\":['B0','B1','B2']})\n",
    "merged4 = pd.merge(left , right , on='Key',how='inner') \n",
    "print(\"default perfixes :\\n\", merged4)\n",
    "merged4 = pd.merge(left , right , on='Key',how='inner',suffixes=['_left','_right'])\n",
    "print(\"\\n custom prefixes perfixes :\\n\", merged4)"
   ]
  },
  {
   "cell_type": "code",
   "execution_count": 47,
   "id": "3d21b7ef",
   "metadata": {},
   "outputs": [
    {
     "data": {
      "text/html": [
       "<div>\n",
       "<style scoped>\n",
       "    .dataframe tbody tr th:only-of-type {\n",
       "        vertical-align: middle;\n",
       "    }\n",
       "\n",
       "    .dataframe tbody tr th {\n",
       "        vertical-align: top;\n",
       "    }\n",
       "\n",
       "    .dataframe thead th {\n",
       "        text-align: right;\n",
       "    }\n",
       "</style>\n",
       "<table border=\"1\" class=\"dataframe\">\n",
       "  <thead>\n",
       "    <tr style=\"text-align: right;\">\n",
       "      <th></th>\n",
       "      <th></th>\n",
       "      <th>A</th>\n",
       "      <th>B</th>\n",
       "    </tr>\n",
       "  </thead>\n",
       "  <tbody>\n",
       "    <tr>\n",
       "      <th rowspan=\"2\" valign=\"top\">df6</th>\n",
       "      <th>0</th>\n",
       "      <td>A0</td>\n",
       "      <td>B0</td>\n",
       "    </tr>\n",
       "    <tr>\n",
       "      <th>1</th>\n",
       "      <td>A1</td>\n",
       "      <td>B1</td>\n",
       "    </tr>\n",
       "    <tr>\n",
       "      <th rowspan=\"2\" valign=\"top\">df7</th>\n",
       "      <th>0</th>\n",
       "      <td>A2</td>\n",
       "      <td>B2</td>\n",
       "    </tr>\n",
       "    <tr>\n",
       "      <th>1</th>\n",
       "      <td>A3</td>\n",
       "      <td>B3</td>\n",
       "    </tr>\n",
       "  </tbody>\n",
       "</table>\n",
       "</div>"
      ],
      "text/plain": [
       "        A   B\n",
       "df6 0  A0  B0\n",
       "    1  A1  B1\n",
       "df7 0  A2  B2\n",
       "    1  A3  B3"
      ]
     },
     "execution_count": 47,
     "metadata": {},
     "output_type": "execute_result"
    }
   ],
   "source": [
    "# Concat with keys \n",
    "df_result = pd.concat([df6,df7],keys=['df6','df7']) #   basically custom index for each DF\n",
    "df_result"
   ]
  },
  {
   "cell_type": "markdown",
   "id": "a4cc2821",
   "metadata": {},
   "source": [
    "#### Module 8 Time Series & Date/Time"
   ]
  },
  {
   "cell_type": "markdown",
   "id": "c8a71fb6",
   "metadata": {},
   "source": [
    "IDK if this is even usefull or not ???"
   ]
  },
  {
   "cell_type": "markdown",
   "id": "f6befbba",
   "metadata": {},
   "source": [
    " Summary \n",
    "\n",
    "| Concept              | Function/Method                                | Purpose                             |\n",
    "|----------------------|-------------------------------------------------|-------------------------------------|\n",
    "| Single timestamp     | `pd.Timestamp()`                                | Create one datetime                 |\n",
    "| Datetime array/index | `pd.to_datetime()`, `pd.date_range()`           | Create date ranges or parse strings |\n",
    "| DateTime indexing    | Set datetime as index                           | Enables time slicing                |\n",
    "| Resampling           | `.resample(freq).agg()`                         | Change frequency, aggregate data    |\n",
    "| Rolling calculations | `.rolling(window).agg()`                        | Moving averages, sums, etc.         |\n",
    "| Timezone aware       | `.tz_localize()`, `.tz_convert()`               | Manage time zones                   |\n",
    "| Periods              | `pd.Period()`, `pd.period_range()`              | Represent spans of time             |\n"
   ]
  },
  {
   "cell_type": "markdown",
   "id": "cf300eb4",
   "metadata": {},
   "source": [
    "Will do it later iffffffff"
   ]
  },
  {
   "cell_type": "markdown",
   "id": "c27863c9",
   "metadata": {},
   "source": [
    "#### Module 9 : Advaced Topics"
   ]
  },
  {
   "cell_type": "code",
   "execution_count": 22,
   "id": "839d6f82",
   "metadata": {},
   "outputs": [
    {
     "name": "stdout",
     "output_type": "stream",
     "text": [
      " .astype method :-\n",
      "0      red\n",
      "1     blue\n",
      "2    green\n",
      "3     blue\n",
      "4      red\n",
      "dtype: category\n",
      "Categories (3, object): ['blue', 'green', 'red'] \n",
      "\n",
      " Comparison btw .astype method and .categorical method  \n",
      "\n",
      "\n",
      " .Categorical method :-\n",
      "['red', 'blue', 'green', 'blue', 'red']\n",
      "Categories (3, object): ['blue', 'green', 'red']\n"
     ]
    }
   ],
   "source": [
    "colors = pd.Series(['red','blue','green','blue','red'])\n",
    "colors_cat = colors.astype('category')\n",
    "print(\" .astype method :-\")\n",
    "print(colors_cat,'\\n')\n",
    "colors_cat = pd.Categorical(values=colors)  # did this by guessing basically\n",
    "print(\" Comparison btw .astype method and .categorical method  \\n\")\n",
    "print(\"\\n .Categorical method :-\")\n",
    "print(colors_cat)"
   ]
  },
  {
   "cell_type": "code",
   "execution_count": 23,
   "id": "8909dec0",
   "metadata": {},
   "outputs": [
    {
     "name": "stdout",
     "output_type": "stream",
     "text": [
      " .astype method :-\n",
      "0     small\n",
      "1    medium\n",
      "2     large\n",
      "3    medium\n",
      "4     small\n",
      "dtype: category\n",
      "Categories (3, object): ['small' < 'medium' < 'large'] \n",
      "\n",
      "Comparison btw .astype method and .categorical method \n",
      "\n",
      " .Categorical method :-\n",
      "['small', 'medium', 'large', 'medium', 'small']\n",
      "Categories (3, object): ['small' < 'medium' < 'large']\n"
     ]
    }
   ],
   "source": [
    "# In the above ex the categories were made implicitly \n",
    "# We can also define the catgories beforehand\n",
    "sizes = pd.Series(['small','medium','large','medium','small'])\n",
    "sizes_cat = sizes.astype(pd.CategoricalDtype(categories=['small','medium','large'],ordered=True))\n",
    "print(\" .astype method :-\")\n",
    "print(sizes_cat,'\\n')\n",
    "print(\"Comparison btw .astype method and .categorical method \")\n",
    "print(\"\\n .Categorical method :-\")\n",
    "sizes_cat = pd.Categorical(values=sizes ,categories=['small','medium','large'], ordered=True)\n",
    "print(sizes_cat)"
   ]
  },
  {
   "cell_type": "code",
   "execution_count": 4,
   "id": "4c37d6a8",
   "metadata": {},
   "outputs": [
    {
     "data": {
      "text/html": [
       "<div>\n",
       "<style scoped>\n",
       "    .dataframe tbody tr th:only-of-type {\n",
       "        vertical-align: middle;\n",
       "    }\n",
       "\n",
       "    .dataframe tbody tr th {\n",
       "        vertical-align: top;\n",
       "    }\n",
       "\n",
       "    .dataframe thead th {\n",
       "        text-align: right;\n",
       "    }\n",
       "</style>\n",
       "<table border=\"1\" class=\"dataframe\">\n",
       "  <thead>\n",
       "    <tr style=\"text-align: right;\">\n",
       "      <th></th>\n",
       "      <th></th>\n",
       "      <th>A</th>\n",
       "      <th>B</th>\n",
       "    </tr>\n",
       "    <tr>\n",
       "      <th>First</th>\n",
       "      <th>Second</th>\n",
       "      <th></th>\n",
       "      <th></th>\n",
       "    </tr>\n",
       "  </thead>\n",
       "  <tbody>\n",
       "    <tr>\n",
       "      <th rowspan=\"2\" valign=\"top\">bar</th>\n",
       "      <th>one</th>\n",
       "      <td>0</td>\n",
       "      <td>6</td>\n",
       "    </tr>\n",
       "    <tr>\n",
       "      <th>two</th>\n",
       "      <td>1</td>\n",
       "      <td>7</td>\n",
       "    </tr>\n",
       "    <tr>\n",
       "      <th rowspan=\"2\" valign=\"top\">baz</th>\n",
       "      <th>one</th>\n",
       "      <td>2</td>\n",
       "      <td>8</td>\n",
       "    </tr>\n",
       "    <tr>\n",
       "      <th>two</th>\n",
       "      <td>3</td>\n",
       "      <td>9</td>\n",
       "    </tr>\n",
       "    <tr>\n",
       "      <th rowspan=\"2\" valign=\"top\">foo</th>\n",
       "      <th>one</th>\n",
       "      <td>4</td>\n",
       "      <td>10</td>\n",
       "    </tr>\n",
       "    <tr>\n",
       "      <th>two</th>\n",
       "      <td>5</td>\n",
       "      <td>11</td>\n",
       "    </tr>\n",
       "  </tbody>\n",
       "</table>\n",
       "</div>"
      ],
      "text/plain": [
       "              A   B\n",
       "First Second       \n",
       "bar   one     0   6\n",
       "      two     1   7\n",
       "baz   one     2   8\n",
       "      two     3   9\n",
       "foo   one     4  10\n",
       "      two     5  11"
      ]
     },
     "execution_count": 4,
     "metadata": {},
     "output_type": "execute_result"
    }
   ],
   "source": [
    "# Creating Multindex DataFrame\n",
    "arrays = [['bar', 'bar', 'baz', 'baz', 'foo', 'foo'],['one', 'two', 'one', 'two', 'one', 'two']]\n",
    "index = pd.MultiIndex.from_arrays(arrays , names=['First','Second'])\n",
    "df8 = pd.DataFrame({'A':range(6),'B':range(6,12)},index=index)\n",
    "df8"
   ]
  },
  {
   "cell_type": "code",
   "execution_count": 9,
   "id": "2c9dc8a9",
   "metadata": {},
   "outputs": [
    {
     "data": {
      "text/html": [
       "<div>\n",
       "<style scoped>\n",
       "    .dataframe tbody tr th:only-of-type {\n",
       "        vertical-align: middle;\n",
       "    }\n",
       "\n",
       "    .dataframe tbody tr th {\n",
       "        vertical-align: top;\n",
       "    }\n",
       "\n",
       "    .dataframe thead th {\n",
       "        text-align: right;\n",
       "    }\n",
       "</style>\n",
       "<table border=\"1\" class=\"dataframe\">\n",
       "  <thead>\n",
       "    <tr style=\"text-align: right;\">\n",
       "      <th></th>\n",
       "      <th>A</th>\n",
       "      <th>B</th>\n",
       "    </tr>\n",
       "    <tr>\n",
       "      <th>First</th>\n",
       "      <th></th>\n",
       "      <th></th>\n",
       "    </tr>\n",
       "  </thead>\n",
       "  <tbody>\n",
       "    <tr>\n",
       "      <th>bar</th>\n",
       "      <td>1</td>\n",
       "      <td>13</td>\n",
       "    </tr>\n",
       "    <tr>\n",
       "      <th>baz</th>\n",
       "      <td>5</td>\n",
       "      <td>17</td>\n",
       "    </tr>\n",
       "    <tr>\n",
       "      <th>foo</th>\n",
       "      <td>9</td>\n",
       "      <td>21</td>\n",
       "    </tr>\n",
       "  </tbody>\n",
       "</table>\n",
       "</div>"
      ],
      "text/plain": [
       "       A   B\n",
       "First       \n",
       "bar    1  13\n",
       "baz    5  17\n",
       "foo    9  21"
      ]
     },
     "execution_count": 9,
     "metadata": {},
     "output_type": "execute_result"
    }
   ],
   "source": [
    "# Advance Grouping\n",
    "adv_grouped = df8.groupby(level='First').sum()\n",
    "adv_grouped"
   ]
  },
  {
   "cell_type": "code",
   "execution_count": 11,
   "id": "4391f144",
   "metadata": {},
   "outputs": [
    {
     "data": {
      "text/html": [
       "<div>\n",
       "<style scoped>\n",
       "    .dataframe tbody tr th:only-of-type {\n",
       "        vertical-align: middle;\n",
       "    }\n",
       "\n",
       "    .dataframe tbody tr th {\n",
       "        vertical-align: top;\n",
       "    }\n",
       "\n",
       "    .dataframe thead th {\n",
       "        text-align: right;\n",
       "    }\n",
       "</style>\n",
       "<table border=\"1\" class=\"dataframe\">\n",
       "  <thead>\n",
       "    <tr style=\"text-align: right;\">\n",
       "      <th></th>\n",
       "      <th></th>\n",
       "      <th>A</th>\n",
       "      <th>B</th>\n",
       "    </tr>\n",
       "    <tr>\n",
       "      <th>First</th>\n",
       "      <th>Second</th>\n",
       "      <th></th>\n",
       "      <th></th>\n",
       "    </tr>\n",
       "  </thead>\n",
       "  <tbody>\n",
       "    <tr>\n",
       "      <th>bar</th>\n",
       "      <th>two</th>\n",
       "      <td>1</td>\n",
       "      <td>7</td>\n",
       "    </tr>\n",
       "    <tr>\n",
       "      <th>baz</th>\n",
       "      <th>two</th>\n",
       "      <td>3</td>\n",
       "      <td>9</td>\n",
       "    </tr>\n",
       "    <tr>\n",
       "      <th>foo</th>\n",
       "      <th>two</th>\n",
       "      <td>5</td>\n",
       "      <td>11</td>\n",
       "    </tr>\n",
       "  </tbody>\n",
       "</table>\n",
       "</div>"
      ],
      "text/plain": [
       "              A   B\n",
       "First Second       \n",
       "bar   two     1   7\n",
       "baz   two     3   9\n",
       "foo   two     5  11"
      ]
     },
     "execution_count": 11,
     "metadata": {},
     "output_type": "execute_result"
    }
   ],
   "source": [
    "# Advance Indexing & Slicing\n",
    "# We can use pd.IndexSlice to slice multiindex DF\n",
    "idx = pd.IndexSlice\n",
    "df8.loc[idx[:,'two'],:]"
   ]
  },
  {
   "cell_type": "markdown",
   "id": "1824140a",
   "metadata": {},
   "source": [
    "###### Efficient String Operations with `.str`\n",
    "\n",
    "Pandas vectorizes string operations via `.str` accessor, super useful on large datasets.\n",
    "\n",
    "Examples:\n",
    "\n",
    "s = pd.Series(['Apple', 'Banana', 'Pear']) \n",
    "print(s.str.lower()) \n",
    "print(s.str.contains('a')) \n",
    "print(s.str.replace('a', '@'))`\n"
   ]
  },
  {
   "cell_type": "markdown",
   "id": "b2c105c2",
   "metadata": {},
   "source": [
    "Memory Usage Inspection\n",
    "\n",
    "Quickly inspect DataFrame memory:\n",
    "`print(df.info(memory_usage='deep'))`\n"
   ]
  },
  {
   "cell_type": "markdown",
   "id": "60643b07",
   "metadata": {},
   "source": [
    "."
   ]
  },
  {
   "cell_type": "markdown",
   "id": "542a7582",
   "metadata": {},
   "source": [
    "#### Module 10 : Visualization with pandas"
   ]
  },
  {
   "cell_type": "code",
   "execution_count": 24,
   "id": "931a88f7",
   "metadata": {},
   "outputs": [
    {
     "data": {
      "image/png": "[encoded data removed]",
      "text/plain": [
       "<Figure size 640x480 with 1 Axes>"
      ]
     },
     "metadata": {},
     "output_type": "display_data"
    }
   ],
   "source": [
    "df9 = pd.DataFrame({'Month': ['Jan', 'Feb', 'Mar', 'Apr', 'May'],'Sales': [200, 220, 250, 270, 300],'Expenses': [180, 190, 210, 240, 260]})\n",
    "df9.set_index('Month',inplace=True)\n",
    "df9.plot()\n",
    "plt.title(\"Monthly Sales and Expenses\")\n",
    "plt.ylabel(\"Amount ($)\")\n",
    "plt.show()"
   ]
  },
  {
   "cell_type": "code",
   "execution_count": 27,
   "id": "80452eec",
   "metadata": {},
   "outputs": [
    {
     "data": {
      "image/png": "[encoded data removed]",
      "text/plain": [
       "<Figure size 640x480 with 1 Axes>"
      ]
     },
     "metadata": {},
     "output_type": "display_data"
    }
   ],
   "source": [
    "df9.plot(kind='bar')\n",
    "plt.title(\"Monthly Sales and Expenses\")\n",
    "plt.ylabel(\"Amount ($)\")\n",
    "plt.show()"
   ]
  },
  {
   "cell_type": "code",
   "execution_count": 31,
   "id": "9953435c",
   "metadata": {},
   "outputs": [
    {
     "data": {
      "image/png": "[encoded data removed]",
      "text/plain": [
       "<Figure size 640x480 with 1 Axes>"
      ]
     },
     "metadata": {},
     "output_type": "display_data"
    }
   ],
   "source": [
    "df9.plot(kind='barh')\n",
    "plt.title(\"Monthly Sales and Expenses\")\n",
    "plt.xlabel(\"Amount ($)\")\n",
    "plt.show()"
   ]
  },
  {
   "cell_type": "code",
   "execution_count": 37,
   "id": "5ae56e3e",
   "metadata": {},
   "outputs": [
    {
     "data": {
      "text/plain": [
       "Text(0.5, 1.0, 'Boxplot for Sales and Expenses')"
      ]
     },
     "execution_count": 37,
     "metadata": {},
     "output_type": "execute_result"
    },
    {
     "data": {
      "image/png": "[encoded data removed]",
      "text/plain": [
       "<Figure size 640x480 with 1 Axes>"
      ]
     },
     "metadata": {},
     "output_type": "display_data"
    }
   ],
   "source": [
    "df9.plot(kind='box')\n",
    "plt.title(\"Boxplot for Sales and Expenses\")"
   ]
  },
  {
   "cell_type": "code",
   "execution_count": 40,
   "id": "dd44124f",
   "metadata": {},
   "outputs": [
    {
     "data": {
      "image/png": "[encoded data removed]",
      "text/plain": [
       "<Figure size 640x480 with 1 Axes>"
      ]
     },
     "metadata": {},
     "output_type": "display_data"
    }
   ],
   "source": [
    "df9.plot(kind='scatter',x='Sales',y='Expenses',color = 'red')\n",
    "plt.title(\"Sales vs Expenses\")\n",
    "plt.show()"
   ]
  },
  {
   "cell_type": "code",
   "execution_count": 47,
   "id": "94f87450",
   "metadata": {},
   "outputs": [
    {
     "data": {
      "image/png": "[encoded data removed]",
      "text/plain": [
       "<Figure size 640x480 with 1 Axes>"
      ]
     },
     "metadata": {},
     "output_type": "display_data"
    }
   ],
   "source": [
    "ax = df9.plot(color = ['cyan','green'],marker='o',linestyle='--',grid=True)\n",
    "ax.set_xlabel('Month')\n",
    "ax.set_ylabel(\"Value ($)\")\n",
    "ax.set_title(\"Customized Line Plot\")\n",
    "plt.show()"
   ]
  },
  {
   "cell_type": "code",
   "execution_count": 49,
   "id": "5cff191a",
   "metadata": {},
   "outputs": [
    {
     "data": {
      "image/png": "[encoded data removed]",
      "text/plain": [
       "<Figure size 1200x400 with 2 Axes>"
      ]
     },
     "metadata": {},
     "output_type": "display_data"
    }
   ],
   "source": [
    "# Plotting multiple plots on the same figure \n",
    "fig, axes = plt.subplots(1, 2, figsize=(12, 4))\n",
    "df9['Sales'].plot(kind='bar', ax=axes[0], color='cyan')\n",
    "axes[0].set_title(\"Sales Bar Plot\")\n",
    "df9['Expenses'].plot(kind='line', ax=axes[1], color='magenta')\n",
    "axes[1].set_title(\"Expenses Line Plot\")\n",
    "plt.tight_layout()\n",
    "plt.show()"
   ]
  },
  {
   "cell_type": "code",
   "execution_count": 54,
   "id": "baab230e",
   "metadata": {},
   "outputs": [
    {
     "data": {
      "image/png": "[encoded data removed]",
      "text/plain": [
       "<Figure size 640x480 with 1 Axes>"
      ]
     },
     "metadata": {},
     "output_type": "display_data"
    }
   ],
   "source": [
    "# Integration with matplotlib\n",
    "\n",
    "ax = df9['Sales'].plot(kind='line', marker='o') \n",
    "ax.grid(True, which='both', linestyle='--', linewidth=0.5)  \n",
    "for i, val in enumerate(df9['Sales']):     \n",
    "    ax.annotate(str(val), (i, val), textcoords=\"offset points\", xytext=(0,10), ha='center')  \n",
    "    plt.show()"
   ]
  },
  {
   "cell_type": "code",
   "execution_count": 57,
   "id": "83928732",
   "metadata": {},
   "outputs": [
    {
     "data": {
      "text/plain": [
       "Text(0.5, 1.0, 'Sales vs Expenses with Regression line using Seaborn')"
      ]
     },
     "execution_count": 57,
     "metadata": {},
     "output_type": "execute_result"
    },
    {
     "data": {
      "image/png": "[encoded data removed]",
      "text/plain": [
       "<Figure size 500x500 with 1 Axes>"
      ]
     },
     "metadata": {},
     "output_type": "display_data"
    }
   ],
   "source": [
    "sns.lmplot(x='Sales',y='Expenses',data=df9.reset_index())\n",
    "plt.title(\"Sales vs Expenses with Regression line using Seaborn\")"
   ]
  },
  {
   "cell_type": "code",
   "execution_count": 61,
   "id": "128f2993",
   "metadata": {},
   "outputs": [
    {
     "data": {
      "image/png": "[encoded data removed]",
      "text/plain": [
       "<Figure size 640x480 with 1 Axes>"
      ]
     },
     "metadata": {},
     "output_type": "display_data"
    }
   ],
   "source": [
    "df10 = pd.DataFrame({'Category':['A', 'A', 'B', 'B', 'C', 'C'],'Value': [10, 15, 10, 25, 20, 30]})\n",
    "sns.boxplot(x='Category',y='Value',data=df10)\n",
    "plt.title(\"Boxplot by catogory using Seaborn\")\n",
    "plt.show()\n"
   ]
  },
  {
   "cell_type": "code",
   "execution_count": 63,
   "id": "f4ff84e9",
   "metadata": {},
   "outputs": [
    {
     "data": {
      "image/png": "[encoded data removed]",
      "text/plain": [
       "<Figure size 640x480 with 1 Axes>"
      ]
     },
     "metadata": {},
     "output_type": "display_data"
    }
   ],
   "source": [
    "# Plotting time series data\n",
    "# If your DataFrame has a DateTime index, pandas plotting shines\n",
    "dates = pd.date_range(start='2023-01-01', periods=100) \n",
    "ts = pd.Series(range(100), index=dates) \n",
    "ts.plot(title=\"Time Series Plot\", grid=True) \n",
    "plt.show()"
   ]
  },
  {
   "cell_type": "markdown",
   "id": "fbab0332",
   "metadata": {},
   "source": [
    " Advanced plot types via pandas\n",
    "\n",
    "- **Area plot**: `df.plot.area()`\n",
    "    \n",
    "- **Pie chart**: `df['Sales'].plot.pie()`\n",
    "    \n",
    "- **Hexbin plot** (2D histogram for large datasets): `df.plot.hexbin(x='col1', y='col2', gridsize=30)`\n"
   ]
  },
  {
   "cell_type": "markdown",
   "id": "60fa7949",
   "metadata": {},
   "source": [
    "Saving plots\n",
    "\n",
    "You can save figures using matplotlib’s `savefig()`:\n",
    "\n",
    "\n",
    "fig = df.plot().get_figure() \\\n",
    "fig.savefig('plot.png', dpi=300)"
   ]
  },
  {
   "cell_type": "markdown",
   "id": "84f49044",
   "metadata": {},
   "source": [
    "Styling plots with pandas options\n",
    "\n",
    "You can set global plotting styles:\n",
    "\n",
    "pd.options.plotting.backend = \"matplotlib\"  # default \\\n",
    "plt.style.use('seaborn-darkgrid')\n"
   ]
  },
  {
   "cell_type": "markdown",
   "id": "80ddd417",
   "metadata": {},
   "source": [
    "Quick Recap Table\n",
    "\n",
    "|Plot Type|pandas call|Usage|\n",
    "|---|---|---|\n",
    "|Line|`df.plot()`|Time series, trend lines|\n",
    "|Bar|`df.plot(kind='bar')`|Comparing categories|\n",
    "|Histogram|`df.plot(kind='hist')`|Distribution analysis|\n",
    "|Boxplot|`df.plot(kind='box')`|Distribution & outliers|\n",
    "|Scatter|`df.plot(kind='scatter')`|Relationships between variables|\n",
    "|Area|`df.plot.area()`|Stacked data over time|\n",
    "|Pie|`df['col'].plot.pie()`|Part-of-whole representation|\n",
    "|Hexbin|`df.plot.hexbin(x, y)`|Density visualization|\n"
   ]
  },
  {
   "cell_type": "markdown",
   "id": "8e177a91",
   "metadata": {},
   "source": [
    "#### Module 11 & 12 are purely theoretical so not practising here\n"
   ]
  },
  {
   "cell_type": "markdown",
   "id": "d68631e6",
   "metadata": {},
   "source": [
    "# FINISH"
   ]
  },
  {
   "cell_type": "markdown",
   "id": "215df463",
   "metadata": {},
   "source": []
  }
 ],
 "metadata": {
  "kernelspec": {
   "display_name": "Python 3",
   "language": "python",
   "name": "python3"
  },
  "language_info": {
   "codemirror_mode": {
    "name": "ipython",
    "version": 3
   },
   "file_extension": ".py",
   "mimetype": "text/x-python",
   "name": "python",
   "nbconvert_exporter": "python",
   "pygments_lexer": "ipython3",
   "version": "3.12.10"
  }
 },
 "nbformat": 4,
 "nbformat_minor": 5
}
